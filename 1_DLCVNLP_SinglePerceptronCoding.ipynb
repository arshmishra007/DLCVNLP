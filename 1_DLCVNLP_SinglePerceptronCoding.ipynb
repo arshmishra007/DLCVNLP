{
 "cells": [
  {
   "cell_type": "markdown",
   "metadata": {},
   "source": [
    "# Coding Our First Perceptron"
   ]
  },
  {
   "cell_type": "code",
   "execution_count": 1,
   "metadata": {},
   "outputs": [],
   "source": [
    "#importing all the libraries\n",
    "import numpy as np\n",
    "import pandas as pd\n",
    "import matplotlib.pyplot as plt\n",
    "plt.style.use('fivethirtyeight')"
   ]
  },
  {
   "cell_type": "code",
   "execution_count": 29,
   "metadata": {},
   "outputs": [],
   "source": [
    "# now we will create our perceptron class\n",
    "class Perceptron:\n",
    "    #creating an initializer\n",
    "    def __init__(self,eta,epochs,activationfunction):\n",
    "        self.weights = np.random.randn(3)*1e-4\n",
    "        #since we want to keep small weights\n",
    "        self.eta = eta\n",
    "        self.epochs = epochs\n",
    "        self.activationfunction=activationfunction\n",
    "        #now we have defined the init part\n",
    "        \n",
    "    def fit(self,X,y):\n",
    "        self.X = X\n",
    "        self.y = y\n",
    "        x_with_bias = np.c_[self.X,-np.ones((len(self.X),1))]\n",
    "        print(\"Data Fitting Started\")\n",
    "        \n",
    "        \n",
    "        for epochs in range(self.epochs):\n",
    "            y_hat = self.activationfunction(x_with_bias,self.weights)\n",
    "            error = self.y - y_hat\n",
    "            self.weights = self.weights+self.eta*np.dot(x_with_bias.T,error)\n",
    "            #.T for Transpose\n",
    "            print(\"Error at epoch number \",epochs,\" is :\",error)\n",
    "    \n",
    "    def predict(self,X):\n",
    "        x_with_bias = np.c_[X,-np.ones((len(self.X),1))]\n",
    "        return self.activationfunction(x_with_bias,self.weights)"
   ]
  },
  {
   "cell_type": "code",
   "execution_count": 30,
   "metadata": {},
   "outputs": [],
   "source": [
    "activationfunction = lambda inputs,weights: np.where(np.dot(inputs,weights)>0,1,0)"
   ]
  },
  {
   "cell_type": "markdown",
   "metadata": {},
   "source": [
    "# AND GATE DATASET"
   ]
  },
  {
   "cell_type": "code",
   "execution_count": 31,
   "metadata": {},
   "outputs": [],
   "source": [
    "data = {'x1':[0,0,1,1],'x2':[0,1,0,1],'y':[0,0,0,1]}\n",
    "AND = pd.DataFrame(data)"
   ]
  },
  {
   "cell_type": "code",
   "execution_count": 32,
   "metadata": {},
   "outputs": [
    {
     "data": {
      "text/html": [
       "<div>\n",
       "<style scoped>\n",
       "    .dataframe tbody tr th:only-of-type {\n",
       "        vertical-align: middle;\n",
       "    }\n",
       "\n",
       "    .dataframe tbody tr th {\n",
       "        vertical-align: top;\n",
       "    }\n",
       "\n",
       "    .dataframe thead th {\n",
       "        text-align: right;\n",
       "    }\n",
       "</style>\n",
       "<table border=\"1\" class=\"dataframe\">\n",
       "  <thead>\n",
       "    <tr style=\"text-align: right;\">\n",
       "      <th></th>\n",
       "      <th>x1</th>\n",
       "      <th>x2</th>\n",
       "      <th>y</th>\n",
       "    </tr>\n",
       "  </thead>\n",
       "  <tbody>\n",
       "    <tr>\n",
       "      <th>0</th>\n",
       "      <td>0</td>\n",
       "      <td>0</td>\n",
       "      <td>0</td>\n",
       "    </tr>\n",
       "    <tr>\n",
       "      <th>1</th>\n",
       "      <td>0</td>\n",
       "      <td>1</td>\n",
       "      <td>0</td>\n",
       "    </tr>\n",
       "    <tr>\n",
       "      <th>2</th>\n",
       "      <td>1</td>\n",
       "      <td>0</td>\n",
       "      <td>0</td>\n",
       "    </tr>\n",
       "    <tr>\n",
       "      <th>3</th>\n",
       "      <td>1</td>\n",
       "      <td>1</td>\n",
       "      <td>1</td>\n",
       "    </tr>\n",
       "  </tbody>\n",
       "</table>\n",
       "</div>"
      ],
      "text/plain": [
       "   x1  x2  y\n",
       "0   0   0  0\n",
       "1   0   1  0\n",
       "2   1   0  0\n",
       "3   1   1  1"
      ]
     },
     "execution_count": 32,
     "metadata": {},
     "output_type": "execute_result"
    }
   ],
   "source": [
    "AND"
   ]
  },
  {
   "cell_type": "code",
   "execution_count": 33,
   "metadata": {},
   "outputs": [],
   "source": [
    "X = AND.drop('y',axis=1)"
   ]
  },
  {
   "cell_type": "code",
   "execution_count": 34,
   "metadata": {},
   "outputs": [],
   "source": [
    "y = AND['y']"
   ]
  },
  {
   "cell_type": "code",
   "execution_count": 35,
   "metadata": {},
   "outputs": [],
   "source": [
    "model = Perceptron(eta=0.01,epochs=10,activationfunction=activationfunction)"
   ]
  },
  {
   "cell_type": "code",
   "execution_count": 36,
   "metadata": {},
   "outputs": [
    {
     "name": "stdout",
     "output_type": "stream",
     "text": [
      "Data Fitting Started\n",
      "Error at epoch number  0  is : 0    0\n",
      "1    0\n",
      "2    0\n",
      "3    1\n",
      "Name: y, dtype: int64\n",
      "Error at epoch number  1  is : 0   -1\n",
      "1   -1\n",
      "2   -1\n",
      "3    0\n",
      "Name: y, dtype: int64\n",
      "Error at epoch number  2  is : 0    0\n",
      "1    0\n",
      "2    0\n",
      "3    1\n",
      "Name: y, dtype: int64\n",
      "Error at epoch number  3  is : 0    0\n",
      "1    0\n",
      "2    0\n",
      "3    0\n",
      "Name: y, dtype: int64\n",
      "Error at epoch number  4  is : 0    0\n",
      "1    0\n",
      "2    0\n",
      "3    0\n",
      "Name: y, dtype: int64\n",
      "Error at epoch number  5  is : 0    0\n",
      "1    0\n",
      "2    0\n",
      "3    0\n",
      "Name: y, dtype: int64\n",
      "Error at epoch number  6  is : 0    0\n",
      "1    0\n",
      "2    0\n",
      "3    0\n",
      "Name: y, dtype: int64\n",
      "Error at epoch number  7  is : 0    0\n",
      "1    0\n",
      "2    0\n",
      "3    0\n",
      "Name: y, dtype: int64\n",
      "Error at epoch number  8  is : 0    0\n",
      "1    0\n",
      "2    0\n",
      "3    0\n",
      "Name: y, dtype: int64\n",
      "Error at epoch number  9  is : 0    0\n",
      "1    0\n",
      "2    0\n",
      "3    0\n",
      "Name: y, dtype: int64\n"
     ]
    }
   ],
   "source": [
    "model.fit(X,y)"
   ]
  },
  {
   "cell_type": "code",
   "execution_count": 37,
   "metadata": {},
   "outputs": [
    {
     "data": {
      "text/plain": [
       "array([0, 0, 0, 1])"
      ]
     },
     "execution_count": 37,
     "metadata": {},
     "output_type": "execute_result"
    }
   ],
   "source": [
    "model.predict(X)"
   ]
  },
  {
   "cell_type": "markdown",
   "metadata": {},
   "source": [
    "# Analysis With Graph"
   ]
  },
  {
   "cell_type": "code",
   "execution_count": 38,
   "metadata": {},
   "outputs": [
    {
     "data": {
      "text/plain": [
       "<matplotlib.axes._subplots.AxesSubplot at 0x1a98d3f2c08>"
      ]
     },
     "execution_count": 38,
     "metadata": {},
     "output_type": "execute_result"
    },
    {
     "data": {
      "image/png": "[encoded data removed]",
      "text/plain": [
       "<Figure size 432x288 with 2 Axes>"
      ]
     },
     "metadata": {},
     "output_type": "display_data"
    }
   ],
   "source": [
    "AND.plot(kind='scatter',x='x1',y='x2',c='y',cmap='summer',s=50)"
   ]
  },
  {
   "cell_type": "code",
   "execution_count": null,
   "metadata": {},
   "outputs": [],
   "source": []
  }
 ],
 "metadata": {
  "kernelspec": {
   "display_name": "Python 3",
   "language": "python",
   "name": "python3"
  },
  "language_info": {
   "codemirror_mode": {
    "name": "ipython",
    "version": 3
   },
   "file_extension": ".py",
   "mimetype": "text/x-python",
   "name": "python",
   "nbconvert_exporter": "python",
   "pygments_lexer": "ipython3",
   "version": "3.7.6"
  }
 },
 "nbformat": 4,
 "nbformat_minor": 4
}
