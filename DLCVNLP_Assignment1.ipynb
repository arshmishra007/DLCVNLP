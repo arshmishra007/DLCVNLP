{
 "cells": [
  {
   "cell_type": "markdown",
   "metadata": {},
   "source": [
    "# DLCVNLP Assignment 1 "
   ]
  },
  {
   "cell_type": "markdown",
   "metadata": {},
   "source": [
    "## Class 1"
   ]
  },
  {
   "cell_type": "markdown",
   "metadata": {},
   "source": [
    "In AI we try to create an application capable of working without human intervention\n",
    "ML is the Subset of AI , the most important thing here is the Data . \n",
    "\n",
    "ML provides us statistics tools to analyse the data and to preprocess the data ,\n",
    "\n",
    "we use different different types of models for prediction on the dataset . \n"
   ]
  },
  {
   "cell_type": "markdown",
   "metadata": {},
   "source": [
    "## Different Types of ML"
   ]
  },
  {
   "cell_type": "markdown",
   "metadata": {},
   "source": [
    "1) Supervised ML : \n",
    "    \n",
    "    Here we deal with the labelled dataset .\n",
    "    It is called as Supervised ML because we know the output based on particular input.\n",
    "    \n",
    "    Regresion : Output will contain continious values .\n",
    "    Classification : Output will have a limited set of values (for example binary type values ie . 0,1)\n",
    "    MultiClass Classification :Here we have more than two classes in our dataset, output will have more number of category \n",
    "    Multi Labelled Classification : It is used in the recommendation system . Here we have multiple outputs.\n",
    "        "
   ]
  },
  {
   "cell_type": "markdown",
   "metadata": {},
   "source": [
    "2)UnSupervised ML :\n",
    "\n",
    "    Here we do not know what is our output.\n",
    "    The main task is to do Clustering , Segmentation , Dimensionality Reduction\n",
    "    \n",
    "    Example : \n",
    "    Company wants to launch a costly product So on the customers data we will try to make clusters of similar kind\n",
    "    and categorise the data according to the salaries eg( Rich , Poor , Lower Middle , Upper Middle Class) . \n",
    "    Once this is achieved then they will analyse the chances of success in selling  of their costly product"
   ]
  },
  {
   "cell_type": "markdown",
   "metadata": {},
   "source": [
    "3)Semi Supervised ML :\n",
    "    \n",
    "    It is also called as Reinforcement Learning . \n",
    "    Here we have both the labelled data as well as unlabelled data , generally we have more unlabelled data.\n",
    "    So once the model is trained on the dataset then it interacts with the environment and based on the feedback \n",
    "    our model will learn and optimize itself . \n",
    "    \n",
    "    Example :\n",
    "    Children keeps on learning continiously by the surroundings and learn new things .    "
   ]
  },
  {
   "cell_type": "markdown",
   "metadata": {},
   "source": [
    "## Deep Learning"
   ]
  },
  {
   "cell_type": "markdown",
   "metadata": {},
   "source": [
    "It is mostly about Neural Networks . Main aim of DL is to mimic the human brain ie to make the machine learn in the human manner\n",
    "\n",
    "Deep Learning Techniques :\n",
    "    1) ANN - Artificial Neural Networks , it works on the tabular kind of dataset (excel sheet data)\n",
    "    2) CNN - Convulitional Neural Networks (Here we have input data as image and videos)\n",
    "    \n",
    "    Application Of DL :\n",
    "    1)Image Classification\n",
    "    2)Object Detection\n",
    "    3)Object Segmentation\n",
    "    4)Tracking\n",
    "    5)Face recognition\n",
    "    6)GANs\n",
    "    \n",
    "    \n",
    "    3)RNN - Recurrent Neural Network ( it is used when the input data is text , time series data,sequential data)"
   ]
  },
  {
   "cell_type": "markdown",
   "metadata": {},
   "source": [
    "## Class 2"
   ]
  },
  {
   "cell_type": "markdown",
   "metadata": {},
   "source": [
    "Deep Learning is more close to the human behaviour . Deep means How much depth we are providing to the neural Network\n",
    "\n",
    "Deep Learning became more popular because as the amount of data increased the performance of the old learning algos decreased\n",
    "\n",
    "But in Case of Deep Learning the performance increased as the amount of data increased leading to greater accuracy . \n",
    "\n",
    "Example of problems that deep learning can solve :\n",
    "    \n",
    "    1)Computer Vision Related Problems\n",
    "    2)Facebook uses identification algorithm for detecting faces\n",
    "    3)speech recognition problems\n",
    "    4)Self Driving Cars\n",
    "    5)Helpfull in handling the non structured data."
   ]
  },
  {
   "cell_type": "markdown",
   "metadata": {},
   "source": [
    "\n",
    "[image source](https://image.slidesharecdn.com/andrew-ng-extract-oct2015-nonotes-151124104249-lva1-app6891/95/andrew-ng-chief-scientist-at-baidu-30-638.jpg?cb=1448361887)\n",
    "\n",
    "<img src=\"https://image.slidesharecdn.com/andrew-ng-extract-oct2015-nonotes-151124104249-lva1-app6891/95/andrew-ng-chief-scientist-at-baidu-30-638.jpg?cb=1448361887\">"
   ]
  },
  {
   "cell_type": "markdown",
   "metadata": {},
   "source": [
    "## ARTIFICIAL NEURAL NETWORK"
   ]
  },
  {
   "cell_type": "markdown",
   "metadata": {},
   "source": [
    "It is inspired by the biological neurons found in the cerebral cortex of our brain .\n",
    "\n",
    "Cerebral Cortex is the outermost layer of the brain\n",
    "\n",
    "ANNs are the core of deep learning , they are versatile , powerfull and scalable"
   ]
  },
  {
   "cell_type": "markdown",
   "metadata": {},
   "source": [
    "## The 1st Artificial Neuron"
   ]
  },
  {
   "cell_type": "markdown",
   "metadata": {},
   "source": [
    "In 1943 Warren Mc Culloh and Water pitts showed that these simple neurons can perform logical operations like Or , Not ,And Gate"
   ]
  },
  {
   "cell_type": "markdown",
   "metadata": {},
   "source": [
    "### The Perceptron\n",
    "\n",
    "* Its the simplest ANN architecture. It was invented by Frank Rosenblatt in 1957 and published as `Rosenblatt, Frank (1958), The Perceptron: A Probabilistic Model for Information Storage and Organization in the Brain, Cornell Aeronautical Laboratory, Psychological Review, v65, No. 6, pp. 386–408. doi:10.1037/h0042519`\n",
    "* It has different architecture then the first neuron that we have seen above. Its known as threshold logic unit(TLU) or linear threshold unit (LTU).\n",
    "* Here inputs are not just binary. \n",
    "* Lets see the architecture shown below - \n",
    "    \n",
    "    <a title=\"Chrislb / CC BY-SA (http://creativecommons.org/licenses/by-sa/3.0/)\" href=\"https://commons.wikimedia.org/wiki/File:ArtificialNeuronModel_english.png\"><img width=\"1024\" alt=\"ArtificialNeuronModel english\" src=\"https://upload.wikimedia.org/wikipedia/commons/thumb/6/60/ArtificialNeuronModel_english.png/1024px-ArtificialNeuronModel_english.png\"></a>"
   ]
  },
  {
   "cell_type": "markdown",
   "metadata": {},
   "source": [
    "* Common activation functions used for Perceptrons are (with threshold at 0)- \n",
    "\n",
    "    * $$step(z)\\ or\\ heaviside(z) = \\left\\{\\begin{matrix}\n",
    "                                0 & z<0\\\\ \n",
    "                                1 & z\\geq 0\n",
    "                                \\end{matrix}\\right.$$\n",
    "                         "
   ]
  },
  {
   "cell_type": "markdown",
   "metadata": {},
   "source": [
    "Z = X1W1 + X2W2 + X3W3 + ..... + XnWn\n",
    "\n",
    "Z = Net Input \n"
   ]
  },
  {
   "cell_type": "markdown",
   "metadata": {},
   "source": [
    "Z = (Summition)WiXi (1 to n)"
   ]
  },
  {
   "cell_type": "markdown",
   "metadata": {},
   "source": [
    "Then we will apply the activation function on Z ie activation_func(Z) and then we obtain the final output ."
   ]
  },
  {
   "cell_type": "markdown",
   "metadata": {},
   "source": [
    "If Z>=0 then o/p will be 1\n",
    "\n",
    "If Z< 0 then o/p will be 0"
   ]
  },
  {
   "cell_type": "markdown",
   "metadata": {},
   "source": [
    "![](https://sebastianraschka.com/images/faq/classifier-history/perceptron-figure.png)"
   ]
  },
  {
   "cell_type": "markdown",
   "metadata": {},
   "source": [
    "So according to the perceptron rule all the inputs will be multiplied with their corresponding weights and it will be equivalent to Z.\n",
    "\n",
    "Then an Activation Function will be applied to the Z and the output will be calculated .\n",
    "\n",
    "Now the Error will be calculated by using the following formula :\n",
    "    Error = (actual value - predicted value)to the power 2\n",
    "    ie . Error = (y-y_hat)^2\n",
    "    \n",
    "If error is high then Back Propogation will take place . \n",
    "\n",
    "Note 1 Epoch = Forward Propogation + Backword Propogation"
   ]
  },
  {
   "cell_type": "markdown",
   "metadata": {},
   "source": [
    "## Class 3"
   ]
  },
  {
   "cell_type": "markdown",
   "metadata": {},
   "source": [
    "ANN is just the network of single neurons , when we increase the hidden layers we are actually increasing the depth of the neural network\n",
    "Everyone has a different threshold level of perceiving things , in that way we can think of the activation function . \n",
    "Our main Aim is to reduce the errors .\n",
    "\n",
    "Bias is also important , it always affects the activation function's threshold level."
   ]
  },
  {
   "cell_type": "markdown",
   "metadata": {},
   "source": [
    "Bias is something like we are introducing some errors in our model so that our model can learn better after learning from it .\n",
    "\n",
    "Classification solves this kind of problem statement : if f(x,y)>=0 then it belongs to +ve class else it belongs to -ve class."
   ]
  },
  {
   "cell_type": "markdown",
   "metadata": {},
   "source": [
    "Note : If we do more number of epochs then sometimes it may lead to overfitting and it will also lead to the burning of the resources .\n",
    "\n",
    "For checking of the visuals of how things actually work you can have a look at :playground.tensorflow.org\n",
    "    \n",
    "We can do experiments here and see how things work.   \n",
    "    "
   ]
  },
  {
   "cell_type": "markdown",
   "metadata": {},
   "source": [
    "# Derivation"
   ]
  },
  {
   "cell_type": "markdown",
   "metadata": {},
   "source": [
    "Let's assume that you are doing a binary classification with class +1 and -1\n",
    "\n",
    "Let there be decision function $\\phi (z)$ \n",
    "\n",
    "which takes linear combination of certain inputs \"$\\mathbf{x}$\" \n",
    "\n",
    "corresponding weights \"$\\mathbf{w}$\" and net input $\\mathbf{z} = w_1 x_1 + w_2 x_2 + ... + w_n x_n$\n"
   ]
  },
  {
   "cell_type": "markdown",
   "metadata": {},
   "source": [
    "So in vector form we have \n",
    "\n",
    "$\\begin{matrix}\n",
    "\\mathbf{w} = \\begin{bmatrix}\n",
    "w_1\\\\ \n",
    "\\vdots\\\\ \n",
    "w_n\\end{bmatrix}&&\n",
    "\\mathbf{x} = \\begin{bmatrix}\n",
    "x_1\\\\ \n",
    "\\vdots\\\\ \n",
    "x_n\\end{bmatrix}\\end{matrix}$\n",
    "\n",
    "\n",
    "so  $\\mathbf{z = w^T x}$"
   ]
  },
  {
   "cell_type": "markdown",
   "metadata": {},
   "source": [
    "Now, if \n",
    "\n",
    "for a sample $\\mathbf{x}$\n",
    "\n",
    "$\\phi(z) = \\begin{cases}\n",
    "+1 & \\text{ if } z \\geq \\theta \\\\ \n",
    "-1 & \\text{ if } z< \\theta \n",
    "\\end{cases}$\n",
    "\n",
    "Lets simplify the above equation - \n",
    "\n",
    "$\\phi(z) = \\begin{cases}\n",
    "+1 & \\text{ if } z - \\theta \\geq 0\\\\ \n",
    "-1 & \\text{ if } z - \\theta < 0\n",
    "\\end{cases}$\n",
    "\n",
    "Suppose w_0 = - \\theta and x_0 = 1 \n",
    "\n",
    "Then, \n",
    "\n",
    "$\\mathbf{z'} = w_0 x_0 + w_1 x_1 + w_2 x_2 + ... + w_n x_n$\n",
    "\n",
    "and \n",
    "\n",
    "$\\phi(z) = \\begin{cases}\n",
    "+1 & \\text{ if } z \\geq 0\\\\ \n",
    "-1 & \\text{ if } z < 0\n",
    "\\end{cases}$"
   ]
  },
  {
   "cell_type": "markdown",
   "metadata": {},
   "source": [
    "Note : Back Propogation will also update the bias weights and the other weights too . "
   ]
  },
  {
   "cell_type": "markdown",
   "metadata": {},
   "source": [
    "## Perceptron Learning Rule "
   ]
  },
  {
   "cell_type": "markdown",
   "metadata": {},
   "source": [
    "fresh weight (W) = original weight (W) + learning rate ($\\eta $ ) *(y - y_hat)*(input(x))"
   ]
  },
  {
   "cell_type": "markdown",
   "metadata": {},
   "source": [
    "## Class 4"
   ]
  },
  {
   "cell_type": "markdown",
   "metadata": {},
   "source": [
    "## Perceptron weight rule"
   ]
  },
  {
   "cell_type": "markdown",
   "metadata": {},
   "source": [
    "W_new = W_old + $\\Delta W $"
   ]
  },
  {
   "cell_type": "markdown",
   "metadata": {},
   "source": [
    "where W_new  is equal to the new weights\n",
    "\n",
    "where W_old is equal to the old weights\n",
    "\n",
    "where $\\Delta W$ is the change in weights "
   ]
  },
  {
   "cell_type": "markdown",
   "metadata": {},
   "source": [
    "This is how we write the perceptron weight rule\n",
    "\n",
    "$Z = W0X0 + W1X1 + W2X2+......$\n",
    "\n",
    "Here W0X0 is our Bias unit"
   ]
  },
  {
   "cell_type": "markdown",
   "metadata": {},
   "source": [
    "Here $\\Delta W $ is directly proportional to the inputs and error\n",
    "\n",
    "If the inputs are given wrong then it will update the weights according to that only"
   ]
  },
  {
   "cell_type": "markdown",
   "metadata": {},
   "source": [
    "$\\eta $ : ranges between 0.0 to 1.0"
   ]
  },
  {
   "cell_type": "markdown",
   "metadata": {},
   "source": [
    "# Implementation of Simple Perceptron Model"
   ]
  },
  {
   "cell_type": "markdown",
   "metadata": {},
   "source": [
    "Inputs : X1 , X2 , -1 (Bias Value)"
   ]
  },
  {
   "cell_type": "code",
   "execution_count": 1,
   "metadata": {},
   "outputs": [],
   "source": [
    "# importing the libraries \n",
    "\n",
    "import numpy as np \n",
    "import pandas as pd\n",
    "import matplotlib.pyplot as plt\n",
    "import joblib\n",
    "plt.style.use(\"fivethirtyeight\")"
   ]
  },
  {
   "cell_type": "code",
   "execution_count": 2,
   "metadata": {},
   "outputs": [],
   "source": [
    "class Perceptron:\n",
    "    def __init__(self,eta,epochs,activation_function):\n",
    "        #initializing the weights with small value\n",
    "        self.weights = np.random.randn(3)*1e-4\n",
    "        \n",
    "        self.eta = eta\n",
    "        self.epochs = epochs\n",
    "        self.activation_function = activation_function\n",
    "        \n",
    "    def fit(self,x,y):\n",
    "        self.x = x\n",
    "        self.y = y\n",
    "        # now adding bias\n",
    "        x_with_bias = np.c_[self.x,-np.ones((len(self.x),1))] # 1 because 1x3 will be multiplied by 3x1\n",
    "        for epochs in range(self.epochs):\n",
    "            y_hat = self.activation_function(x_with_bias,self.weights)\n",
    "            error = self.y - y_hat\n",
    "            self.weights = self.weights + self.eta*np.dot(x_with_bias.T,error)\n",
    "    \n",
    "    def predict(self,x):\n",
    "        x_with_bias = np.c_[self.x,-np.ones((len(self.x),1))]\n",
    "        return self.activation_function(x_with_bias,self.weights)\n",
    "    \n",
    "        "
   ]
  },
  {
   "cell_type": "code",
   "execution_count": 3,
   "metadata": {},
   "outputs": [],
   "source": [
    "activation_function = lambda inputs,weights : np.where(np.dot(inputs,weights)>0,1,0)"
   ]
  },
  {
   "cell_type": "code",
   "execution_count": 4,
   "metadata": {},
   "outputs": [],
   "source": [
    "# creating the dataset\n",
    "# AND GATE\n",
    "data = {\"X1\":[0,0,1,1],\"X2\":[0,1,0,1],\"Y\":[0,0,0,1]}"
   ]
  },
  {
   "cell_type": "code",
   "execution_count": 5,
   "metadata": {},
   "outputs": [],
   "source": [
    "AND = pd.DataFrame(data)"
   ]
  },
  {
   "cell_type": "code",
   "execution_count": 6,
   "metadata": {},
   "outputs": [
    {
     "data": {
      "text/html": [
       "<div>\n",
       "<style scoped>\n",
       "    .dataframe tbody tr th:only-of-type {\n",
       "        vertical-align: middle;\n",
       "    }\n",
       "\n",
       "    .dataframe tbody tr th {\n",
       "        vertical-align: top;\n",
       "    }\n",
       "\n",
       "    .dataframe thead th {\n",
       "        text-align: right;\n",
       "    }\n",
       "</style>\n",
       "<table border=\"1\" class=\"dataframe\">\n",
       "  <thead>\n",
       "    <tr style=\"text-align: right;\">\n",
       "      <th></th>\n",
       "      <th>X1</th>\n",
       "      <th>X2</th>\n",
       "      <th>Y</th>\n",
       "    </tr>\n",
       "  </thead>\n",
       "  <tbody>\n",
       "    <tr>\n",
       "      <th>0</th>\n",
       "      <td>0</td>\n",
       "      <td>0</td>\n",
       "      <td>0</td>\n",
       "    </tr>\n",
       "    <tr>\n",
       "      <th>1</th>\n",
       "      <td>0</td>\n",
       "      <td>1</td>\n",
       "      <td>0</td>\n",
       "    </tr>\n",
       "    <tr>\n",
       "      <th>2</th>\n",
       "      <td>1</td>\n",
       "      <td>0</td>\n",
       "      <td>0</td>\n",
       "    </tr>\n",
       "    <tr>\n",
       "      <th>3</th>\n",
       "      <td>1</td>\n",
       "      <td>1</td>\n",
       "      <td>1</td>\n",
       "    </tr>\n",
       "  </tbody>\n",
       "</table>\n",
       "</div>"
      ],
      "text/plain": [
       "   X1  X2  Y\n",
       "0   0   0  0\n",
       "1   0   1  0\n",
       "2   1   0  0\n",
       "3   1   1  1"
      ]
     },
     "execution_count": 6,
     "metadata": {},
     "output_type": "execute_result"
    }
   ],
   "source": [
    "AND"
   ]
  },
  {
   "cell_type": "code",
   "execution_count": 7,
   "metadata": {},
   "outputs": [],
   "source": [
    "X=AND.drop(\"Y\",axis=1)"
   ]
  },
  {
   "cell_type": "code",
   "execution_count": 8,
   "metadata": {},
   "outputs": [],
   "source": [
    "Y=AND[\"Y\"]"
   ]
  },
  {
   "cell_type": "code",
   "execution_count": 9,
   "metadata": {},
   "outputs": [],
   "source": [
    "model = Perceptron(eta=0.01,epochs=10,activation_function = activation_function)"
   ]
  },
  {
   "cell_type": "code",
   "execution_count": 10,
   "metadata": {},
   "outputs": [],
   "source": [
    "model.fit(X,Y)"
   ]
  },
  {
   "cell_type": "code",
   "execution_count": 11,
   "metadata": {},
   "outputs": [
    {
     "data": {
      "text/plain": [
       "array([0, 0, 0, 1])"
      ]
     },
     "execution_count": 11,
     "metadata": {},
     "output_type": "execute_result"
    }
   ],
   "source": [
    "model.predict(X)"
   ]
  },
  {
   "cell_type": "code",
   "execution_count": 12,
   "metadata": {},
   "outputs": [
    {
     "data": {
      "text/plain": [
       "<matplotlib.axes._subplots.AxesSubplot at 0x159fffb98c8>"
      ]
     },
     "execution_count": 12,
     "metadata": {},
     "output_type": "execute_result"
    },
    {
     "data": {
      "image/png": "[encoded data removed]",
      "text/plain": [
       "<Figure size 432x288 with 1 Axes>"
      ]
     },
     "metadata": {},
     "output_type": "display_data"
    }
   ],
   "source": [
    "AND.plot()"
   ]
  },
  {
   "cell_type": "code",
   "execution_count": 13,
   "metadata": {},
   "outputs": [
    {
     "data": {
      "text/plain": [
       "<matplotlib.axes._subplots.AxesSubplot at 0x1598082c8c8>"
      ]
     },
     "execution_count": 13,
     "metadata": {},
     "output_type": "execute_result"
    },
    {
     "data": {
      "image/png": "[encoded data removed]",
      "text/plain": [
       "<Figure size 432x288 with 2 Axes>"
      ]
     },
     "metadata": {},
     "output_type": "display_data"
    }
   ],
   "source": [
    "AND.plot(kind=\"scatter\",x=\"X1\",y=\"X2\",c=\"Y\",cmap=\"winter\")"
   ]
  },
  {
   "cell_type": "markdown",
   "metadata": {},
   "source": [
    "# CLASS 5"
   ]
  },
  {
   "cell_type": "markdown",
   "metadata": {},
   "source": [
    "So talking about the Sigmoid Function "
   ]
  },
  {
   "cell_type": "markdown",
   "metadata": {},
   "source": [
    "<img src=\"https://upload.wikimedia.org/wikipedia/commons/thumb/8/88/Logistic-curve.svg/480px-Logistic-curve.svg.png\">"
   ]
  },
  {
   "cell_type": "markdown",
   "metadata": {},
   "source": [
    " Domain of the Sigmoid Function That is the input range is from -infinity to + infinity\n",
    "\n",
    "Range of Sigmoid Function is from 0 to +1"
   ]
  },
  {
   "cell_type": "markdown",
   "metadata": {},
   "source": [
    "It helps us to converge also , that is squeezing of the data . And since the values are between 0 to 1 so the data has become computationally less expensive"
   ]
  },
  {
   "cell_type": "markdown",
   "metadata": {},
   "source": [
    "For the case of classification in the output layer we have more than 1 Neurons \n",
    "\n",
    "For the case of regression we have only one neuron in the output"
   ]
  },
  {
   "cell_type": "markdown",
   "metadata": {},
   "source": [
    "## Z = Weights(matrix) x X(inputs) And Y_hat = activation_function(Z)"
   ]
  },
  {
   "cell_type": "markdown",
   "metadata": {},
   "source": [
    "## Error Calculation"
   ]
  },
  {
   "cell_type": "markdown",
   "metadata": {},
   "source": [
    "Error is based on the proportional weights like if the weights are high then the error will be updated more based on that weight value\n",
    "\n",
    "$W = W - \\eta(y-y_hat)x(inputs)$\n",
    "\n",
    "$W = W + \\Delta W$\n",
    "\n",
    "$\\Delta W = -\\eta \\frac{ErrorDerivative}{WeightsDerivative}$"
   ]
  },
  {
   "cell_type": "markdown",
   "metadata": {},
   "source": [
    "Note : In ANN the input layer do not have bias and activation function since it is not a neuron , it is the buffer layer which is simply just passing the values .\n"
   ]
  },
  {
   "cell_type": "markdown",
   "metadata": {},
   "source": [
    "## Let's See the Importance of Activation Function"
   ]
  },
  {
   "cell_type": "markdown",
   "metadata": {},
   "source": [
    "In Neural Network we have a Single Input , it is passed to the neuron 1 where its multiplied by W1 .\n",
    "\n",
    "Then the resultant is passed to neuron 2 where its multiplied by w2 and then the output is generated .\n",
    "\n",
    "Note : We are not using Activation Function"
   ]
  },
  {
   "cell_type": "markdown",
   "metadata": {},
   "source": [
    "$Z1 = X1 * W1$ ->equn 1\n",
    "\n",
    "$Z2 = W2 * Z1$ ->equn 2\n",
    "\n",
    "Replacing Z1 in equn2 by equn1\n",
    "\n",
    "$Z2 = W2 x (W1 * X1)$ assume w2 x w1 = W\n",
    "\n",
    "$Z2 = W * X1$\n",
    "\n",
    "So our entire network get converted into the single neuron."
   ]
  },
  {
   "cell_type": "markdown",
   "metadata": {},
   "source": [
    "Now lets consider the same case and here we will add bias also .\n",
    "\n",
    "Case taken :\n",
    "    \n",
    "    In Neural Network we have a Single Input , it is passed to the neuron 1 where its multiplied by W1 .\n",
    "\n",
    "    Then the resultant is passed to neuron 2 where its multiplied by w2 and then the output is generated .\n",
    "\n",
    "    Note : We are not using Activation Function\n",
    "    \n",
    "    Here we are adding bias b2 in Second Neuron and we are adding the bias b3 in the third neuron\n",
    "    "
   ]
  },
  {
   "cell_type": "markdown",
   "metadata": {},
   "source": [
    "Equations Will become :\n",
    "    \n",
    "$Z1 = W1*X1 + b2$  (equn 1)\n",
    "    \n",
    "$Z2 = W2*Z1 + b3$  (equn 2)\n",
    "    \n",
    "Replacing the value of Z1 in Equn 2 from Equn 1\n",
    "    \n",
    "$Z2 = W2*(W1*X1 + b2) + b3$\n",
    "    \n",
    "$Z2 = W2W1X1 + W2b2 + b3$  (W2W1 TREATED AS W) and (W2b2 TREATED AS CONSTANT) and (b3 Treated as Bias)\n",
    "    \n",
    "So Final Equn Becomes :\n",
    "    \n",
    "$Z2 = W*X1 + Constant + bias$ \n",
    "    \n",
    "which is equivalent to \n",
    "    \n",
    "$Z2 = W*X1 + bias$"
   ]
  },
  {
   "cell_type": "markdown",
   "metadata": {},
   "source": [
    "Conclusion : Activation Function is Important to prevent the neural network from getting converted into the single neuron "
   ]
  },
  {
   "cell_type": "markdown",
   "metadata": {},
   "source": [
    "## Keras Implementation"
   ]
  },
  {
   "cell_type": "markdown",
   "metadata": {},
   "source": [
    "## Building a Classifier using ANN"
   ]
  },
  {
   "cell_type": "code",
   "execution_count": 14,
   "metadata": {},
   "outputs": [],
   "source": [
    "import numpy as np\n",
    "import pandas as pd\n",
    "import matplotlib.pyplot as plt\n",
    "import seaborn as sns\n",
    "import tensorflow as tf\n",
    "import os"
   ]
  },
  {
   "cell_type": "markdown",
   "metadata": {},
   "source": [
    "classification for the mnist dataset\n",
    "\n",
    "Here each image is of 28*28 \n",
    "\n",
    "And we have 10 classes ie 0 to 9\n"
   ]
  },
  {
   "cell_type": "code",
   "execution_count": 15,
   "metadata": {},
   "outputs": [],
   "source": [
    "mnist = tf.keras.datasets.mnist"
   ]
  },
  {
   "cell_type": "code",
   "execution_count": 16,
   "metadata": {},
   "outputs": [],
   "source": [
    "(x_train_full,y_train_full),(x_test,y_test) = mnist.load_data()"
   ]
  },
  {
   "cell_type": "code",
   "execution_count": 17,
   "metadata": {},
   "outputs": [
    {
     "data": {
      "text/plain": [
       "(60000, 28, 28)"
      ]
     },
     "execution_count": 17,
     "metadata": {},
     "output_type": "execute_result"
    }
   ],
   "source": [
    "x_train_full.shape"
   ]
  },
  {
   "cell_type": "code",
   "execution_count": 18,
   "metadata": {},
   "outputs": [
    {
     "data": {
      "text/plain": [
       "(60000,)"
      ]
     },
     "execution_count": 18,
     "metadata": {},
     "output_type": "execute_result"
    }
   ],
   "source": [
    "y_train_full.shape"
   ]
  },
  {
   "cell_type": "code",
   "execution_count": 19,
   "metadata": {},
   "outputs": [
    {
     "data": {
      "text/plain": [
       "(10000, 28, 28)"
      ]
     },
     "execution_count": 19,
     "metadata": {},
     "output_type": "execute_result"
    }
   ],
   "source": [
    "x_test.shape"
   ]
  },
  {
   "cell_type": "code",
   "execution_count": 20,
   "metadata": {},
   "outputs": [
    {
     "data": {
      "text/plain": [
       "(10000,)"
      ]
     },
     "execution_count": 20,
     "metadata": {},
     "output_type": "execute_result"
    }
   ],
   "source": [
    "y_test.shape"
   ]
  },
  {
   "cell_type": "markdown",
   "metadata": {},
   "source": [
    "Now we will create the training and the validation set"
   ]
  },
  {
   "cell_type": "code",
   "execution_count": 21,
   "metadata": {},
   "outputs": [],
   "source": [
    "x_valid,x_train = x_train_full[:5000]/255.0,x_train_full[5000:]/255.0\n",
    "\n",
    "y_valid,y_train = y_train_full[:5000],y_train_full[5000:]"
   ]
  },
  {
   "cell_type": "code",
   "execution_count": 22,
   "metadata": {},
   "outputs": [
    {
     "data": {
      "text/plain": [
       "(5000, 28, 28)"
      ]
     },
     "execution_count": 22,
     "metadata": {},
     "output_type": "execute_result"
    }
   ],
   "source": [
    "x_valid.shape"
   ]
  },
  {
   "cell_type": "code",
   "execution_count": 23,
   "metadata": {},
   "outputs": [
    {
     "data": {
      "text/plain": [
       "(55000, 28, 28)"
      ]
     },
     "execution_count": 23,
     "metadata": {},
     "output_type": "execute_result"
    }
   ],
   "source": [
    "x_train.shape"
   ]
  },
  {
   "cell_type": "code",
   "execution_count": 24,
   "metadata": {},
   "outputs": [
    {
     "data": {
      "text/plain": [
       "(5000,)"
      ]
     },
     "execution_count": 24,
     "metadata": {},
     "output_type": "execute_result"
    }
   ],
   "source": [
    "y_valid.shape"
   ]
  },
  {
   "cell_type": "code",
   "execution_count": 25,
   "metadata": {},
   "outputs": [
    {
     "data": {
      "text/plain": [
       "(55000,)"
      ]
     },
     "execution_count": 25,
     "metadata": {},
     "output_type": "execute_result"
    }
   ],
   "source": [
    "y_train.shape"
   ]
  },
  {
   "cell_type": "markdown",
   "metadata": {},
   "source": [
    "Scaling leads to the faster execution of the code"
   ]
  },
  {
   "cell_type": "code",
   "execution_count": 26,
   "metadata": {},
   "outputs": [
    {
     "data": {
      "text/plain": [
       "<matplotlib.image.AxesImage at 0x1599a567f48>"
      ]
     },
     "execution_count": 26,
     "metadata": {},
     "output_type": "execute_result"
    },
    {
     "data": {
      "image/png": "[encoded data removed]",
      "text/plain": [
       "<Figure size 432x288 with 1 Axes>"
      ]
     },
     "metadata": {},
     "output_type": "display_data"
    }
   ],
   "source": [
    "plt.imshow(x_train[0],cmap='binary')"
   ]
  },
  {
   "cell_type": "code",
   "execution_count": 27,
   "metadata": {},
   "outputs": [
    {
     "data": {
      "text/plain": [
       "<matplotlib.axes._subplots.AxesSubplot at 0x159b0c8f108>"
      ]
     },
     "execution_count": 27,
     "metadata": {},
     "output_type": "execute_result"
    },
    {
     "data": {
      "image/png": "[encoded data removed]",
      "text/plain": [
       "<Figure size 1080x1080 with 2 Axes>"
      ]
     },
     "metadata": {},
     "output_type": "display_data"
    }
   ],
   "source": [
    "plt.figure(figsize=(15,15))\n",
    "sns.heatmap(x_train[0],annot=True,cmap = \"binary\")"
   ]
  },
  {
   "cell_type": "code",
   "execution_count": 28,
   "metadata": {},
   "outputs": [],
   "source": [
    "# creating model\n",
    "model = tf.keras.models.Sequential()"
   ]
  },
  {
   "cell_type": "code",
   "execution_count": 29,
   "metadata": {},
   "outputs": [],
   "source": [
    "model.add(tf.keras.layers.Flatten(input_shape=[28,28]))\n",
    "model.add(tf.keras.layers.Dense(300,activation=\"relu\"))\n",
    "model.add(tf.keras.layers.Dense(100,activation=\"relu\"))\n",
    "model.add(tf.keras.layers.Dense(10,activation=\"softmax\"))"
   ]
  },
  {
   "cell_type": "code",
   "execution_count": 30,
   "metadata": {},
   "outputs": [
    {
     "name": "stdout",
     "output_type": "stream",
     "text": [
      "Model: \"sequential\"\n",
      "_________________________________________________________________\n",
      "Layer (type)                 Output Shape              Param #   \n",
      "=================================================================\n",
      "flatten (Flatten)            (None, 784)               0         \n",
      "_________________________________________________________________\n",
      "dense (Dense)                (None, 300)               235500    \n",
      "_________________________________________________________________\n",
      "dense_1 (Dense)              (None, 100)               30100     \n",
      "_________________________________________________________________\n",
      "dense_2 (Dense)              (None, 10)                1010      \n",
      "=================================================================\n",
      "Total params: 266,610\n",
      "Trainable params: 266,610\n",
      "Non-trainable params: 0\n",
      "_________________________________________________________________\n"
     ]
    }
   ],
   "source": [
    "model.summary()"
   ]
  },
  {
   "cell_type": "code",
   "execution_count": 31,
   "metadata": {},
   "outputs": [],
   "source": [
    "trainable_paras = 784*300+300 + 300*100+100+100*10+10"
   ]
  },
  {
   "cell_type": "code",
   "execution_count": 32,
   "metadata": {},
   "outputs": [
    {
     "name": "stdout",
     "output_type": "stream",
     "text": [
      "Total Trainable Parameters :266610 \n"
     ]
    }
   ],
   "source": [
    "print(f\"Total Trainable Parameters :{trainable_paras} \")"
   ]
  },
  {
   "cell_type": "code",
   "execution_count": 33,
   "metadata": {},
   "outputs": [],
   "source": [
    "model.compile(optimizer=\"sgd\",loss=\"sparse_categorical_crossentropy\",metrics=['accuracy'])"
   ]
  },
  {
   "cell_type": "code",
   "execution_count": 34,
   "metadata": {},
   "outputs": [
    {
     "name": "stdout",
     "output_type": "stream",
     "text": [
      "Epoch 1/30\n",
      "1719/1719 [==============================] - 3s 2ms/step - loss: 0.6162 - accuracy: 0.8411 - val_loss: 0.3068 - val_accuracy: 0.9142\n",
      "Epoch 2/30\n",
      "1719/1719 [==============================] - 2s 1ms/step - loss: 0.2855 - accuracy: 0.9190 - val_loss: 0.2436 - val_accuracy: 0.9338\n",
      "Epoch 3/30\n",
      "1719/1719 [==============================] - 2s 1ms/step - loss: 0.2328 - accuracy: 0.9339 - val_loss: 0.2014 - val_accuracy: 0.9434\n",
      "Epoch 4/30\n",
      "1719/1719 [==============================] - 2s 1ms/step - loss: 0.1989 - accuracy: 0.9433 - val_loss: 0.1799 - val_accuracy: 0.9508\n",
      "Epoch 5/30\n",
      "1719/1719 [==============================] - 2s 1ms/step - loss: 0.1734 - accuracy: 0.9497 - val_loss: 0.1606 - val_accuracy: 0.9566\n",
      "Epoch 6/30\n",
      "1719/1719 [==============================] - 2s 1ms/step - loss: 0.1532 - accuracy: 0.9560 - val_loss: 0.1465 - val_accuracy: 0.9630\n",
      "Epoch 7/30\n",
      "1719/1719 [==============================] - 2s 1ms/step - loss: 0.1375 - accuracy: 0.9609 - val_loss: 0.1403 - val_accuracy: 0.9644\n",
      "Epoch 8/30\n",
      "1719/1719 [==============================] - 2s 1ms/step - loss: 0.1242 - accuracy: 0.9651 - val_loss: 0.1262 - val_accuracy: 0.9644\n",
      "Epoch 9/30\n",
      "1719/1719 [==============================] - 2s 1ms/step - loss: 0.1132 - accuracy: 0.9679 - val_loss: 0.1180 - val_accuracy: 0.9670\n",
      "Epoch 10/30\n",
      "1719/1719 [==============================] - 2s 1ms/step - loss: 0.1036 - accuracy: 0.9711 - val_loss: 0.1101 - val_accuracy: 0.9702\n",
      "Epoch 11/30\n",
      "1719/1719 [==============================] - 3s 1ms/step - loss: 0.0952 - accuracy: 0.9732 - val_loss: 0.1148 - val_accuracy: 0.9666\n",
      "Epoch 12/30\n",
      "1719/1719 [==============================] - 2s 1ms/step - loss: 0.0883 - accuracy: 0.9752 - val_loss: 0.1006 - val_accuracy: 0.9716\n",
      "Epoch 13/30\n",
      "1719/1719 [==============================] - 2s 1ms/step - loss: 0.0821 - accuracy: 0.9772 - val_loss: 0.0949 - val_accuracy: 0.9746\n",
      "Epoch 14/30\n",
      "1719/1719 [==============================] - 2s 1ms/step - loss: 0.0758 - accuracy: 0.9791 - val_loss: 0.0953 - val_accuracy: 0.9742\n",
      "Epoch 15/30\n",
      "1719/1719 [==============================] - 2s 1ms/step - loss: 0.0707 - accuracy: 0.9806 - val_loss: 0.0918 - val_accuracy: 0.9744\n",
      "Epoch 16/30\n",
      "1719/1719 [==============================] - 2s 1ms/step - loss: 0.0663 - accuracy: 0.9816 - val_loss: 0.0893 - val_accuracy: 0.9750\n",
      "Epoch 17/30\n",
      "1719/1719 [==============================] - 2s 1ms/step - loss: 0.0619 - accuracy: 0.9832 - val_loss: 0.0843 - val_accuracy: 0.9772\n",
      "Epoch 18/30\n",
      "1719/1719 [==============================] - 2s 1ms/step - loss: 0.0578 - accuracy: 0.9843 - val_loss: 0.0823 - val_accuracy: 0.9772\n",
      "Epoch 19/30\n",
      "1719/1719 [==============================] - 2s 1ms/step - loss: 0.0544 - accuracy: 0.9853 - val_loss: 0.0800 - val_accuracy: 0.9768\n",
      "Epoch 20/30\n",
      "1719/1719 [==============================] - 2s 1ms/step - loss: 0.0511 - accuracy: 0.9862 - val_loss: 0.0792 - val_accuracy: 0.9774\n",
      "Epoch 21/30\n",
      "1719/1719 [==============================] - 2s 1ms/step - loss: 0.0479 - accuracy: 0.9870 - val_loss: 0.0762 - val_accuracy: 0.9780\n",
      "Epoch 22/30\n",
      "1719/1719 [==============================] - 2s 1ms/step - loss: 0.0449 - accuracy: 0.9882 - val_loss: 0.0754 - val_accuracy: 0.9784\n",
      "Epoch 23/30\n",
      "1719/1719 [==============================] - 2s 1ms/step - loss: 0.0422 - accuracy: 0.9892 - val_loss: 0.0751 - val_accuracy: 0.9782\n",
      "Epoch 24/30\n",
      "1719/1719 [==============================] - 2s 1ms/step - loss: 0.0401 - accuracy: 0.9897 - val_loss: 0.0732 - val_accuracy: 0.9782\n",
      "Epoch 25/30\n",
      "1719/1719 [==============================] - 2s 1ms/step - loss: 0.0376 - accuracy: 0.9907 - val_loss: 0.0714 - val_accuracy: 0.9788\n",
      "Epoch 26/30\n",
      "1719/1719 [==============================] - 2s 1ms/step - loss: 0.0354 - accuracy: 0.9911 - val_loss: 0.0731 - val_accuracy: 0.9786\n",
      "Epoch 27/30\n",
      "1719/1719 [==============================] - 2s 1ms/step - loss: 0.0334 - accuracy: 0.9917 - val_loss: 0.0724 - val_accuracy: 0.9794\n",
      "Epoch 28/30\n",
      "1719/1719 [==============================] - 2s 1ms/step - loss: 0.0315 - accuracy: 0.9925 - val_loss: 0.0718 - val_accuracy: 0.9786\n",
      "Epoch 29/30\n",
      "1719/1719 [==============================] - 2s 1ms/step - loss: 0.0298 - accuracy: 0.9931 - val_loss: 0.0689 - val_accuracy: 0.9788\n",
      "Epoch 30/30\n",
      "1719/1719 [==============================] - 2s 1ms/step - loss: 0.0281 - accuracy: 0.9936 - val_loss: 0.0700 - val_accuracy: 0.9790\n"
     ]
    }
   ],
   "source": [
    "history = model.fit(x_train,y_train,validation_data = (x_valid,y_valid),epochs=30)"
   ]
  },
  {
   "cell_type": "code",
   "execution_count": 35,
   "metadata": {},
   "outputs": [
    {
     "data": {
      "text/plain": [
       "<matplotlib.axes._subplots.AxesSubplot at 0x159b1136708>"
      ]
     },
     "execution_count": 35,
     "metadata": {},
     "output_type": "execute_result"
    },
    {
     "data": {
      "image/png": "[encoded data removed]",
      "text/plain": [
       "<Figure size 432x288 with 1 Axes>"
      ]
     },
     "metadata": {},
     "output_type": "display_data"
    }
   ],
   "source": [
    "pd.DataFrame(history.history).plot()"
   ]
  },
  {
   "cell_type": "markdown",
   "metadata": {},
   "source": [
    "Loss Function is used to determine how good or bad our model is .\n",
    "\n",
    "Validation data shows unseen data to our model while training so that our model works well and have a good accuracy"
   ]
  },
  {
   "cell_type": "markdown",
   "metadata": {},
   "source": [
    "## Class 6"
   ]
  },
  {
   "cell_type": "markdown",
   "metadata": {},
   "source": [
    "## Saving the model"
   ]
  },
  {
   "cell_type": "markdown",
   "metadata": {},
   "source": [
    "While we use the unscaled data then initially the loss will be very high while model training is going on but one the data is scaled then the loss will be low while training\n"
   ]
  },
  {
   "cell_type": "code",
   "execution_count": 36,
   "metadata": {},
   "outputs": [],
   "source": [
    "import time \n",
    "import os"
   ]
  },
  {
   "cell_type": "code",
   "execution_count": 39,
   "metadata": {},
   "outputs": [],
   "source": [
    "def save_model_path(model_dir='TRAINED_MODEL'):\n",
    "    os.makedirs(model_dir,exist_ok=True)\n",
    "    # if it will present then it will overwrite it\n",
    "    filename = time.strftime(\"Model_%Y_%m_%d_%H_%M_%S.h5\")\n",
    "    # note : model should be saved with the .h5 extension\n",
    "    model_path = os.path.join(model_dir,filename)\n",
    "    print(f\"{filename} will be save at {model_path}\")\n",
    "    return model_path"
   ]
  },
  {
   "cell_type": "code",
   "execution_count": 40,
   "metadata": {},
   "outputs": [
    {
     "name": "stdout",
     "output_type": "stream",
     "text": [
      "Model_2021_06_01_11_26_54.h5 will be save at TRAINED_MODEL\\Model_2021_06_01_11_26_54.h5\n"
     ]
    }
   ],
   "source": [
    "unique_path = save_model_path()"
   ]
  },
  {
   "cell_type": "code",
   "execution_count": 41,
   "metadata": {},
   "outputs": [],
   "source": [
    "tf.keras.models.save_model(model,unique_path)"
   ]
  },
  {
   "cell_type": "code",
   "execution_count": 42,
   "metadata": {},
   "outputs": [
    {
     "name": "stdout",
     "output_type": "stream",
     "text": [
      "313/313 [==============================] - 0s 1ms/step - loss: 12.0417 - accuracy: 0.9777\n"
     ]
    },
    {
     "data": {
      "text/plain": [
       "[12.041729927062988, 0.9776999950408936]"
      ]
     },
     "execution_count": 42,
     "metadata": {},
     "output_type": "execute_result"
    }
   ],
   "source": [
    "# now evaluating the model\n",
    "model.evaluate(x_test,y_test)"
   ]
  },
  {
   "cell_type": "code",
   "execution_count": 44,
   "metadata": {},
   "outputs": [],
   "source": [
    "# now we have to do the prediction\n",
    "x_new = x_test[:4]\n",
    "prob=model.predict(x_new)"
   ]
  },
  {
   "cell_type": "code",
   "execution_count": 45,
   "metadata": {},
   "outputs": [
    {
     "data": {
      "text/plain": [
       "array([[0., 0., 0., 0., 0., 0., 0., 1., 0., 0.],\n",
       "       [0., 0., 1., 0., 0., 0., 0., 0., 0., 0.],\n",
       "       [0., 1., 0., 0., 0., 0., 0., 0., 0., 0.],\n",
       "       [1., 0., 0., 0., 0., 0., 0., 0., 0., 0.]], dtype=float32)"
      ]
     },
     "execution_count": 45,
     "metadata": {},
     "output_type": "execute_result"
    }
   ],
   "source": [
    "prob.round(3)"
   ]
  },
  {
   "cell_type": "code",
   "execution_count": 46,
   "metadata": {},
   "outputs": [],
   "source": [
    "y_pred = np.argmax(prob,axis=-1)"
   ]
  },
  {
   "cell_type": "code",
   "execution_count": 47,
   "metadata": {},
   "outputs": [
    {
     "data": {
      "text/plain": [
       "array([7, 2, 1, 0], dtype=int64)"
      ]
     },
     "execution_count": 47,
     "metadata": {},
     "output_type": "execute_result"
    }
   ],
   "source": [
    "y_pred"
   ]
  },
  {
   "cell_type": "code",
   "execution_count": 49,
   "metadata": {},
   "outputs": [
    {
     "data": {
      "image/png": "[encoded data removed]",
      "text/plain": [
       "<Figure size 432x288 with 1 Axes>"
      ]
     },
     "metadata": {},
     "output_type": "display_data"
    },
    {
     "data": {
      "image/png": "[encoded data removed]",
      "text/plain": [
       "<Figure size 432x288 with 1 Axes>"
      ]
     },
     "metadata": {},
     "output_type": "display_data"
    },
    {
     "data": {
      "image/png": "[encoded data removed]",
      "text/plain": [
       "<Figure size 432x288 with 1 Axes>"
      ]
     },
     "metadata": {},
     "output_type": "display_data"
    },
    {
     "data": {
      "image/png": "[encoded data removed]",
      "text/plain": [
       "<Figure size 432x288 with 1 Axes>"
      ]
     },
     "metadata": {},
     "output_type": "display_data"
    }
   ],
   "source": [
    "for i in range(4):\n",
    "    plt.imshow(x_test[i],cmap=\"binary\")\n",
    "    plt.show()"
   ]
  },
  {
   "cell_type": "markdown",
   "metadata": {},
   "source": [
    "## Let's Explore Call Backs "
   ]
  },
  {
   "cell_type": "markdown",
   "metadata": {},
   "source": [
    "## Tensorboard Callback"
   ]
  },
  {
   "cell_type": "code",
   "execution_count": 50,
   "metadata": {},
   "outputs": [],
   "source": [
    "# creating a unique path or logs directory\n",
    "import time\n",
    "import os\n",
    "def make_dir_for_logs(log_dir=\"logs/fit\"):\n",
    "    filename = time.strftime(\"lod_%Y_%M_%H\")\n",
    "    log_path = os.path.join(log_dir,filename)\n",
    "    return log_path\n",
    "\n",
    "log_dir = make_dir_for_logs()"
   ]
  },
  {
   "cell_type": "code",
   "execution_count": 51,
   "metadata": {},
   "outputs": [],
   "source": [
    "tensor_callback = tf.keras.callbacks.TensorBoard(log_dir=log_dir)\n",
    "\n",
    "# it will give us beautifull data , it will create logs while model training goes on"
   ]
  },
  {
   "cell_type": "markdown",
   "metadata": {},
   "source": [
    "Once it's done go to cmd in the same directory write : tensorboard --logdir logs/fit \n",
    "\n",
    "To See the Visuals"
   ]
  },
  {
   "cell_type": "markdown",
   "metadata": {},
   "source": [
    "## Early Stopping Callbacks"
   ]
  },
  {
   "cell_type": "markdown",
   "metadata": {},
   "source": [
    "While model training we have a doubt that how many number of epochs we should use , so it solves that problem , it continiously  monitors the loss and the accuracy and when it finds that the model is not getting new information and has learned all the things then it stops the training in between thus preventing over use of the resources"
   ]
  },
  {
   "cell_type": "code",
   "execution_count": 53,
   "metadata": {},
   "outputs": [],
   "source": [
    "early_stop_callback = tf.keras.callbacks.EarlyStopping(patience =5)"
   ]
  },
  {
   "cell_type": "markdown",
   "metadata": {},
   "source": [
    "So new we will be creating a new model and in that we will use call backs"
   ]
  },
  {
   "cell_type": "code",
   "execution_count": 54,
   "metadata": {},
   "outputs": [],
   "source": [
    "# creating model\n",
    "model2 = tf.keras.models.Sequential()"
   ]
  },
  {
   "cell_type": "code",
   "execution_count": 55,
   "metadata": {},
   "outputs": [],
   "source": [
    "model2.add(tf.keras.layers.Flatten(input_shape=[28,28]))\n",
    "model2.add(tf.keras.layers.Dense(300,activation=\"relu\"))\n",
    "model2.add(tf.keras.layers.Dense(100,activation=\"relu\"))\n",
    "model2.add(tf.keras.layers.Dense(10,activation=\"softmax\"))"
   ]
  },
  {
   "cell_type": "code",
   "execution_count": 58,
   "metadata": {},
   "outputs": [],
   "source": [
    "model2.compile(optimizer='sgd',loss='sparse_categorical_crossentropy')"
   ]
  },
  {
   "cell_type": "code",
   "execution_count": 61,
   "metadata": {},
   "outputs": [
    {
     "name": "stdout",
     "output_type": "stream",
     "text": [
      "Epoch 1/50\n",
      "   1/1719 [..............................] - ETA: 0s - loss: 0.0012WARNING:tensorflow:From E:\\anaconda3\\lib\\site-packages\\tensorflow\\python\\ops\\summary_ops_v2.py:1277: stop (from tensorflow.python.eager.profiler) is deprecated and will be removed after 2020-07-01.\n",
      "Instructions for updating:\n",
      "use `tf.profiler.experimental.stop` instead.\n",
      "   2/1719 [..............................] - ETA: 35:35 - loss: 0.0021WARNING:tensorflow:Callbacks method `on_train_batch_end` is slow compared to the batch time (batch time: 0.1316s vs `on_train_batch_end` time: 2.3563s). Check your callbacks.\n",
      "1719/1719 [==============================] - 5s 3ms/step - loss: 0.0020 - val_loss: 0.0745\n",
      "Epoch 2/50\n",
      "1719/1719 [==============================] - 2s 1ms/step - loss: 0.0020 - val_loss: 0.0756\n",
      "Epoch 3/50\n",
      "1719/1719 [==============================] - 2s 1ms/step - loss: 0.0019 - val_loss: 0.0745\n",
      "Epoch 4/50\n",
      "1719/1719 [==============================] - 2s 1ms/step - loss: 0.0019 - val_loss: 0.0760\n",
      "Epoch 5/50\n",
      "1719/1719 [==============================] - 2s 1ms/step - loss: 0.0019 - val_loss: 0.0751\n",
      "Epoch 6/50\n",
      "1719/1719 [==============================] - 2s 1ms/step - loss: 0.0018 - val_loss: 0.0756\n"
     ]
    }
   ],
   "source": [
    "history2 = model2.fit(x_train,y_train,validation_data = (x_valid,y_valid),epochs=50,callbacks=[early_stop_callback,tensor_callback])"
   ]
  },
  {
   "cell_type": "code",
   "execution_count": 62,
   "metadata": {},
   "outputs": [
    {
     "data": {
      "text/plain": [
       "<matplotlib.axes._subplots.AxesSubplot at 0x159b949f3c8>"
      ]
     },
     "execution_count": 62,
     "metadata": {},
     "output_type": "execute_result"
    },
    {
     "data": {
      "image/png": "[encoded data removed]",
      "text/plain": [
       "<Figure size 432x288 with 1 Axes>"
      ]
     },
     "metadata": {},
     "output_type": "display_data"
    }
   ],
   "source": [
    "pd.DataFrame(history2.history).plot()"
   ]
  },
  {
   "cell_type": "markdown",
   "metadata": {},
   "source": [
    "## Class 7"
   ]
  },
  {
   "cell_type": "code",
   "execution_count": null,
   "metadata": {},
   "outputs": [
    {
     "name": "stdout",
     "output_type": "stream",
     "text": [
      "Epoch 1/100\n",
      "1719/1719 [==============================] - 2s 1ms/step - loss: 0.6221 - val_loss: 0.3153\n",
      "Epoch 2/100\n",
      "1719/1719 [==============================] - 2s 1ms/step - loss: 0.2917 - val_loss: 0.2430\n",
      "Epoch 3/100\n",
      "1719/1719 [==============================] - 2s 1ms/step - loss: 0.2366 - val_loss: 0.2134\n",
      "Epoch 4/100\n",
      "1719/1719 [==============================] - 2s 1ms/step - loss: 0.2004 - val_loss: 0.1780\n",
      "Epoch 5/100\n",
      "1719/1719 [==============================] - 2s 1ms/step - loss: 0.1742 - val_loss: 0.1589\n",
      "Epoch 6/100\n",
      "1719/1719 [==============================] - 2s 1ms/step - loss: 0.1537 - val_loss: 0.1438\n",
      "Epoch 7/100\n",
      "1719/1719 [==============================] - 2s 1ms/step - loss: 0.1379 - val_loss: 0.1311\n",
      "Epoch 8/100\n",
      "1719/1719 [==============================] - 2s 1ms/step - loss: 0.1249 - val_loss: 0.1206\n",
      "Epoch 9/100\n",
      "1719/1719 [==============================] - 2s 1ms/step - loss: 0.1132 - val_loss: 0.1149\n",
      "Epoch 10/100\n",
      "1719/1719 [==============================] - 2s 1ms/step - loss: 0.1036 - val_loss: 0.1083\n",
      "Epoch 11/100\n",
      "1719/1719 [==============================] - 2s 1ms/step - loss: 0.0956 - val_loss: 0.1029\n",
      "Epoch 12/100\n",
      "1719/1719 [==============================] - 2s 1ms/step - loss: 0.0884 - val_loss: 0.0982\n",
      "Epoch 13/100\n",
      "1719/1719 [==============================] - 2s 1ms/step - loss: 0.0817 - val_loss: 0.0922\n",
      "Epoch 14/100\n",
      "1719/1719 [==============================] - 2s 1ms/step - loss: 0.0758 - val_loss: 0.0920\n",
      "Epoch 15/100\n",
      "1719/1719 [==============================] - 2s 1ms/step - loss: 0.0707 - val_loss: 0.0878\n",
      "Epoch 16/100\n",
      "1719/1719 [==============================] - 2s 1ms/step - loss: 0.0661 - val_loss: 0.0836\n",
      "Epoch 17/100\n",
      "1719/1719 [==============================] - 2s 1ms/step - loss: 0.0619 - val_loss: 0.0823\n",
      "Epoch 18/100\n",
      "1719/1719 [==============================] - 2s 1ms/step - loss: 0.0580 - val_loss: 0.0805\n",
      "Epoch 19/100\n",
      "1719/1719 [==============================] - 2s 1ms/step - loss: 0.0540 - val_loss: 0.0780\n",
      "Epoch 20/100\n",
      "1719/1719 [==============================] - 2s 1ms/step - loss: 0.0506 - val_loss: 0.0749\n",
      "Epoch 21/100\n",
      "1719/1719 [==============================] - 2s 1ms/step - loss: 0.0476 - val_loss: 0.0750\n",
      "Epoch 22/100\n",
      "1719/1719 [==============================] - 2s 1ms/step - loss: 0.0445 - val_loss: 0.0736\n",
      "Epoch 23/100\n",
      "1719/1719 [==============================] - 2s 1ms/step - loss: 0.0418 - val_loss: 0.0712\n",
      "Epoch 24/100\n",
      "1719/1719 [==============================] - 2s 1ms/step - loss: 0.0393 - val_loss: 0.0710\n",
      "Epoch 25/100\n",
      "1719/1719 [==============================] - 2s 1ms/step - loss: 0.0370 - val_loss: 0.0701\n",
      "Epoch 26/100\n",
      "1719/1719 [==============================] - 2s 1ms/step - loss: 0.0349 - val_loss: 0.0743\n",
      "Epoch 27/100\n",
      "1719/1719 [==============================] - 2s 1ms/step - loss: 0.0329 - val_loss: 0.0679\n",
      "Epoch 28/100\n",
      "1719/1719 [==============================] - 2s 1ms/step - loss: 0.0312 - val_loss: 0.0670\n",
      "Epoch 29/100\n",
      "1719/1719 [==============================] - 2s 1ms/step - loss: 0.0291 - val_loss: 0.0671\n",
      "Epoch 30/100\n",
      "1719/1719 [==============================] - 2s 1ms/step - loss: 0.0275 - val_loss: 0.0684\n",
      "Epoch 31/100\n",
      "1719/1719 [==============================] - 2s 1ms/step - loss: 0.0258 - val_loss: 0.0709\n",
      "Epoch 32/100\n",
      "1719/1719 [==============================] - 2s 1ms/step - loss: 0.0245 - val_loss: 0.0657\n",
      "Epoch 33/100\n",
      "1719/1719 [==============================] - 2s 1ms/step - loss: 0.0230 - val_loss: 0.0663\n",
      "Epoch 34/100\n",
      "1719/1719 [==============================] - 2s 1ms/step - loss: 0.0218 - val_loss: 0.0699\n",
      "Epoch 35/100\n",
      "1719/1719 [==============================] - 2s 1ms/step - loss: 0.0206 - val_loss: 0.0662\n",
      "Epoch 36/100\n",
      "1719/1719 [==============================] - 2s 1ms/step - loss: 0.0195 - val_loss: 0.0680\n",
      "Epoch 37/100\n",
      "1719/1719 [==============================] - 2s 1ms/step - loss: 0.0184 - val_loss: 0.0656\n",
      "Epoch 38/100\n",
      "1719/1719 [==============================] - 2s 1ms/step - loss: 0.0174 - val_loss: 0.0656\n",
      "Epoch 39/100\n",
      "1719/1719 [==============================] - 2s 1ms/step - loss: 0.0164 - val_loss: 0.0670\n",
      "Epoch 40/100\n",
      "1719/1719 [==============================] - 2s 1ms/step - loss: 0.0156 - val_loss: 0.0644\n",
      "Epoch 41/100\n",
      "1719/1719 [==============================] - 2s 1ms/step - loss: 0.0147 - val_loss: 0.0672\n",
      "Epoch 42/100\n",
      "1719/1719 [==============================] - 2s 1ms/step - loss: 0.0140 - val_loss: 0.0647\n",
      "Epoch 43/100\n",
      "1719/1719 [==============================] - 2s 1ms/step - loss: 0.0134 - val_loss: 0.0662\n",
      "Epoch 44/100\n",
      "1719/1719 [==============================] - 2s 1ms/step - loss: 0.0127 - val_loss: 0.0666\n",
      "Epoch 45/100\n",
      "1719/1719 [==============================] - 2s 1ms/step - loss: 0.0120 - val_loss: 0.0656\n",
      "Epoch 46/100\n",
      "1719/1719 [==============================] - 2s 1ms/step - loss: 0.0115 - val_loss: 0.0659\n",
      "Epoch 47/100\n",
      "1719/1719 [==============================] - 2s 1ms/step - loss: 0.0109 - val_loss: 0.0681\n",
      "Epoch 48/100\n",
      " 287/1719 [====>.........................] - ETA: 1s - loss: 0.0089"
     ]
    }
   ],
   "source": [
    "history2 = model2.fit(x_train,y_train,validation_data = (x_valid,y_valid),epochs=100)"
   ]
  },
  {
   "cell_type": "markdown",
   "metadata": {},
   "source": [
    "## Vectors"
   ]
  },
  {
   "cell_type": "markdown",
   "metadata": {},
   "source": [
    "Vector has magnitude and direction : For ex a train moving in north direction at a speed of 5Km/Hr .\n",
    "    \n",
    "In the Cartesian plane a point (2,2) will be represented as 2i_cap + 2j_cap where i_cap and j_cap are the unit vectors in the direstion of x axis and y axis\n",
    "\n",
    "A Unit Vector has the magnitude of 1 and have a specific direction"
   ]
  },
  {
   "cell_type": "markdown",
   "metadata": {},
   "source": [
    "Suppose OA is a positional vector : 2i_cap + 3j_cap then is can be represented as $\\begin{bmatrix}\n",
    "2\n",
    "\\\\ \n",
    "3\n",
    "\\end{bmatrix}$"
   ]
  },
  {
   "cell_type": "markdown",
   "metadata": {},
   "source": [
    "A vector can start in the middle and can have atarting and ending point\n",
    "\n",
    "example :\n",
    "\n",
    "OA vector is at i_cap + j_cap and OB vector is at 3i_cap + 2j_cap then AB vector is at 2i_cap + j_cap  : $\\begin{bmatrix}\n",
    "2\n",
    "\\\\ \n",
    "1\n",
    "\\end{bmatrix}\n",
    "$"
   ]
  },
  {
   "cell_type": "markdown",
   "metadata": {},
   "source": [
    "Note : The condition for equating the two vectors is that they should have same magnitude and should point in the same direction"
   ]
  },
  {
   "cell_type": "markdown",
   "metadata": {},
   "source": [
    "For creating a unit vector divide the vector by its magnitude for eg unit vector of 2i_cap + j_cap = $\\frac{2i + j}{sqrt(5)}$"
   ]
  },
  {
   "cell_type": "markdown",
   "metadata": {},
   "source": [
    "## Differentiation"
   ]
  },
  {
   "cell_type": "markdown",
   "metadata": {},
   "source": [
    "Graphically it means the slope of the tangent at a point on the graph .\n",
    "\n",
    "It is also said as small change in y with respect to the small change in x ie $\\frac{\\partial y}{\\partial x}$\n",
    "\n",
    "Slope = tan$\\Theta $ = $\\frac{Perpendicular}{Base}$ = $\\frac{y2 - y1}{x2-x1}$\n",
    "\n",
    "If we want to reduce $\\Delta X$ so that final x2 comes closer to x1 and $\\Delta Y$ gets changed .\n",
    "\n",
    "$Y2 = F(X2)$\n",
    "\n",
    "$Y1 = F(X1)$\n",
    "\n",
    "$lim(x-0)  \\frac{\\Delta y}{\\Delta x} = \\frac{\\partial  y}{\\partial  x}$ "
   ]
  },
  {
   "cell_type": "markdown",
   "metadata": {},
   "source": [
    "$\\frac{\\partial  y}{\\partial  x}=\\frac{(f(x1 + \\Delta X )-f(x1))}{\\Delta X}$"
   ]
  },
  {
   "cell_type": "markdown",
   "metadata": {},
   "source": [
    "Product Rule :\n",
    "    \n",
    "$Y = UV$\n",
    "\n",
    "$\\frac{\\partial y}{\\partial x} = {u}'v + {v}'u$"
   ]
  },
  {
   "cell_type": "markdown",
   "metadata": {},
   "source": [
    "Division Rule \n",
    "\n",
    "$Y = U/V$\n",
    "\n",
    "$\\frac{\\partial y}{\\partial x}$ = (${u}'v + {v}'u$)/v^2"
   ]
  },
  {
   "cell_type": "markdown",
   "metadata": {},
   "source": [
    "## MINIMA AND MAXIMA"
   ]
  },
  {
   "cell_type": "markdown",
   "metadata": {},
   "source": [
    "Steps:\n",
    "    \n",
    "1) find $\\frac{\\partial y}{\\partial x} $ \n",
    "\n",
    "2) Evaluate  $\\frac{\\partial y}{\\partial x} $ = 0 and find the x value\n",
    "\n",
    "3)Evaluate $\\frac{\\partial \\partial y}{\\partial \\partial x} $ at x value calculated in step 2\n",
    "\n",
    "4)if it is > 0 point of minima else it is point of maxima\n",
    " "
   ]
  },
  {
   "cell_type": "markdown",
   "metadata": {},
   "source": [
    "## Partial Derivatives"
   ]
  },
  {
   "cell_type": "markdown",
   "metadata": {},
   "source": [
    "When we calculate the partial derivatives in calculating the partial derivatives with respect to x then we treat y as the constant \n",
    "\n",
    "And if calculate the partial derivatives with respect to y then we treat x as the constant.\n",
    "\n",
    "Gradient will always give us the direction towards the steepest accent , in gradient descent we want to descent toward the minumum."
   ]
  },
  {
   "cell_type": "markdown",
   "metadata": {},
   "source": [
    "# Class 8"
   ]
  },
  {
   "cell_type": "markdown",
   "metadata": {},
   "source": [
    "Till now we saw that X will be given as inputs to the neural network . Then weight will be multiplied with them and bias will be added to it . Once it is computed then the resultant will be passed to the activation function.\n",
    "\n",
    "Then after applying the activation function on the resultant we get Y_hat . \n",
    "\n",
    "Optimizers helps us in minimizing the cost function , it assigns new weights.\n",
    "\n",
    "Till now we have used the mean squared error as our cost function . "
   ]
  },
  {
   "cell_type": "markdown",
   "metadata": {},
   "source": [
    "$Cost_Function = (y-y_hat)^2 = (y - \\Phi (Z))^2$"
   ]
  },
  {
   "cell_type": "markdown",
   "metadata": {},
   "source": [
    "Since $Z = WX + b$   (Where W = Weights , X = inputs , b = bias)"
   ]
  },
  {
   "cell_type": "markdown",
   "metadata": {},
   "source": [
    "$Cost Function = (y - \\Phi (WX+b))^2$"
   ]
  },
  {
   "cell_type": "markdown",
   "metadata": {},
   "source": [
    "So we can say that the cost function is totally dependent on the weights and the bias ,\n",
    "\n",
    "$C = C(W,b)$\n",
    "\n",
    "Objective here is to minimize the cost so for minimization of the cost we have to focus more on the weights and the bias.\n",
    "\n",
    "$W = W + \\Delta W$\n",
    "\n",
    "$b = b + \\Delta b$\n",
    "\n",
    "$\\Delta W = -\\eta * \\frac{\\partial Cost C}{\\partial Weights_W}$\n",
    "\n",
    "$\\Delta b = -\\eta * \\frac{\\partial Cost C}{\\partial Bias_b}$"
   ]
  },
  {
   "cell_type": "markdown",
   "metadata": {},
   "source": [
    "Therefore : $W = W + -\\eta * \\frac{\\partial Cost C}{\\partial Weights_W}$"
   ]
  },
  {
   "cell_type": "markdown",
   "metadata": {},
   "source": [
    "Let's take an example where\n",
    "\n",
    "$ (Y - Y_hat)^2 = (Y - \\Phi (WX+b))^2$\n",
    "\n",
    "Assumptions : Y = some constant K and bias b = 0\n",
    "    \n",
    "So $\\Phi (WX+b) = \\Phi (WX)$    "
   ]
  },
  {
   "cell_type": "markdown",
   "metadata": {},
   "source": [
    "It will be some float value based on the activation function.\n",
    "\n",
    "if $\\Phi = Relu$\n",
    "\n",
    "Then $\\Phi (WX) = $ WX if WX is greater or equal to 0  else it will be 0\n",
    "\n",
    "if $\\Phi = Sigmoid$\n",
    "\n",
    "Then our entire value will range between 0 to 1\n",
    "\n",
    "lets say $\\Phi (WX) $ returns some float value W so our equn will become\n",
    "\n",
    "$Cost Function = (y - W)^2$\n",
    "\n",
    "Where y is a constant say 1 and now only W will vary .\n",
    "\n",
    "This implies\n",
    "\n",
    "$Cost Function = F(W)=(1-W)^2$\n",
    "\n",
    "So the graph will be a parabola at point 1 . Therefore 1 will be our minimum or optimum point.\n",
    "\n",
    "So to correctly reach the optimum point we require the learning rate . We should have a small value of the learning rate."
   ]
  },
  {
   "cell_type": "markdown",
   "metadata": {},
   "source": [
    "# Class 9"
   ]
  },
  {
   "cell_type": "markdown",
   "metadata": {},
   "source": [
    "## Building a classifier for the fashion mnist dataset"
   ]
  },
  {
   "cell_type": "code",
   "execution_count": 2,
   "metadata": {},
   "outputs": [],
   "source": [
    "import numpy as np\n",
    "import pandas as pd\n",
    "import matplotlib.pyplot as plt\n",
    "import seaborn as sns\n",
    "import tensorflow as tf\n",
    "import os"
   ]
  },
  {
   "cell_type": "code",
   "execution_count": 3,
   "metadata": {},
   "outputs": [],
   "source": [
    "from tensorflow.keras.datasets import fashion_mnist"
   ]
  },
  {
   "cell_type": "code",
   "execution_count": 4,
   "metadata": {},
   "outputs": [],
   "source": [
    "(x_train_full,y_train_full),(x_test,y_test) = fashion_mnist.load_data()"
   ]
  },
  {
   "cell_type": "code",
   "execution_count": 5,
   "metadata": {},
   "outputs": [
    {
     "data": {
      "text/plain": [
       "(60000, 28, 28)"
      ]
     },
     "execution_count": 5,
     "metadata": {},
     "output_type": "execute_result"
    }
   ],
   "source": [
    "x_train_full.shape"
   ]
  },
  {
   "cell_type": "code",
   "execution_count": 6,
   "metadata": {},
   "outputs": [
    {
     "data": {
      "text/plain": [
       "(60000,)"
      ]
     },
     "execution_count": 6,
     "metadata": {},
     "output_type": "execute_result"
    }
   ],
   "source": [
    "y_train_full.shape"
   ]
  },
  {
   "cell_type": "code",
   "execution_count": 7,
   "metadata": {},
   "outputs": [
    {
     "data": {
      "text/plain": [
       "(10000, 28, 28)"
      ]
     },
     "execution_count": 7,
     "metadata": {},
     "output_type": "execute_result"
    }
   ],
   "source": [
    "x_test.shape"
   ]
  },
  {
   "cell_type": "code",
   "execution_count": 8,
   "metadata": {},
   "outputs": [
    {
     "data": {
      "text/plain": [
       "(10000,)"
      ]
     },
     "execution_count": 8,
     "metadata": {},
     "output_type": "execute_result"
    }
   ],
   "source": [
    "y_test.shape"
   ]
  },
  {
   "cell_type": "code",
   "execution_count": 9,
   "metadata": {},
   "outputs": [],
   "source": [
    "# performing validation split\n",
    "x_valid,x_train = x_train_full[:5000]/255.0 , x_train_full[5000:]/255.0\n",
    "y_valid,y_train = y_train_full[:5000],y_train_full[5000:]"
   ]
  },
  {
   "cell_type": "code",
   "execution_count": 10,
   "metadata": {},
   "outputs": [
    {
     "data": {
      "text/plain": [
       "(5000, 28, 28)"
      ]
     },
     "execution_count": 10,
     "metadata": {},
     "output_type": "execute_result"
    }
   ],
   "source": [
    "x_valid.shape"
   ]
  },
  {
   "cell_type": "code",
   "execution_count": 11,
   "metadata": {},
   "outputs": [
    {
     "data": {
      "text/plain": [
       "(5000,)"
      ]
     },
     "execution_count": 11,
     "metadata": {},
     "output_type": "execute_result"
    }
   ],
   "source": [
    "y_valid.shape"
   ]
  },
  {
   "cell_type": "code",
   "execution_count": 12,
   "metadata": {},
   "outputs": [
    {
     "data": {
      "text/plain": [
       "(55000, 28, 28)"
      ]
     },
     "execution_count": 12,
     "metadata": {},
     "output_type": "execute_result"
    }
   ],
   "source": [
    "x_train.shape"
   ]
  },
  {
   "cell_type": "code",
   "execution_count": 13,
   "metadata": {},
   "outputs": [
    {
     "data": {
      "text/plain": [
       "(55000,)"
      ]
     },
     "execution_count": 13,
     "metadata": {},
     "output_type": "execute_result"
    }
   ],
   "source": [
    "y_train.shape"
   ]
  },
  {
   "cell_type": "code",
   "execution_count": 14,
   "metadata": {},
   "outputs": [
    {
     "data": {
      "text/plain": [
       "<matplotlib.axes._subplots.AxesSubplot at 0x277948f2f08>"
      ]
     },
     "execution_count": 14,
     "metadata": {},
     "output_type": "execute_result"
    },
    {
     "data": {
      "image/png": "[encoded data removed]",
      "text/plain": [
       "<Figure size 1080x1080 with 2 Axes>"
      ]
     },
     "metadata": {
      "needs_background": "light"
     },
     "output_type": "display_data"
    }
   ],
   "source": [
    "# plotting a heatmap\n",
    "plt.figure(figsize=(15,15))\n",
    "sns.heatmap(x_train[0],annot=True,cmap='binary')"
   ]
  },
  {
   "cell_type": "code",
   "execution_count": 15,
   "metadata": {},
   "outputs": [],
   "source": [
    "model = tf.keras.models.Sequential()"
   ]
  },
  {
   "cell_type": "code",
   "execution_count": 16,
   "metadata": {},
   "outputs": [],
   "source": [
    "model.add(tf.keras.layers.Flatten(input_shape=[28,28]))\n",
    "model.add(tf.keras.layers.Dense(300,activation='relu'))\n",
    "model.add(tf.keras.layers.Dense(100,activation='relu'))\n",
    "model.add(tf.keras.layers.Dense(10,activation='softmax'))"
   ]
  },
  {
   "cell_type": "code",
   "execution_count": 17,
   "metadata": {},
   "outputs": [
    {
     "name": "stdout",
     "output_type": "stream",
     "text": [
      "Model: \"sequential\"\n",
      "_________________________________________________________________\n",
      "Layer (type)                 Output Shape              Param #   \n",
      "=================================================================\n",
      "flatten (Flatten)            (None, 784)               0         \n",
      "_________________________________________________________________\n",
      "dense (Dense)                (None, 300)               235500    \n",
      "_________________________________________________________________\n",
      "dense_1 (Dense)              (None, 100)               30100     \n",
      "_________________________________________________________________\n",
      "dense_2 (Dense)              (None, 10)                1010      \n",
      "=================================================================\n",
      "Total params: 266,610\n",
      "Trainable params: 266,610\n",
      "Non-trainable params: 0\n",
      "_________________________________________________________________\n"
     ]
    }
   ],
   "source": [
    "model.summary()"
   ]
  },
  {
   "cell_type": "code",
   "execution_count": 18,
   "metadata": {},
   "outputs": [],
   "source": [
    "model.compile(optimizer = 'sgd',\n",
    "              loss = 'sparse_categorical_crossentropy',\n",
    "              metrics = 'accuracy')"
   ]
  },
  {
   "cell_type": "code",
   "execution_count": 19,
   "metadata": {},
   "outputs": [],
   "source": [
    "tensorboard_cb = tf.keras.callbacks.TensorBoard(log_dir=\"logs_file\")\n",
    "checkpoint_cb = tf.keras.callbacks.ModelCheckpoint(\"my_keras_model_mnistfashion.h5\",save_best_only=True)\n",
    "early_stopping_cb = tf.keras.callbacks.EarlyStopping(patience = 5,restore_best_weights=True)\n",
    "callbacks = [tensorboard_cb,checkpoint_cb,early_stopping_cb]"
   ]
  },
  {
   "cell_type": "code",
   "execution_count": 20,
   "metadata": {},
   "outputs": [
    {
     "name": "stdout",
     "output_type": "stream",
     "text": [
      "Epoch 1/100\n",
      "   1/1719 [..............................] - ETA: 1s - loss: 2.4340 - accuracy: 0.1875WARNING:tensorflow:From E:\\anaconda3\\lib\\site-packages\\tensorflow\\python\\ops\\summary_ops_v2.py:1277: stop (from tensorflow.python.eager.profiler) is deprecated and will be removed after 2020-07-01.\n",
      "Instructions for updating:\n",
      "use `tf.profiler.experimental.stop` instead.\n",
      "   2/1719 [..............................] - ETA: 40:19 - loss: 2.4211 - accuracy: 0.1250WARNING:tensorflow:Callbacks method `on_train_batch_end` is slow compared to the batch time (batch time: 0.0351s vs `on_train_batch_end` time: 2.7790s). Check your callbacks.\n",
      "1719/1719 [==============================] - 6s 4ms/step - loss: 0.7024 - accuracy: 0.7684 - val_loss: 0.5185 - val_accuracy: 0.8208\n",
      "Epoch 2/100\n",
      "1719/1719 [==============================] - 2s 1ms/step - loss: 0.4851 - accuracy: 0.8299 - val_loss: 0.4415 - val_accuracy: 0.8468\n",
      "Epoch 3/100\n",
      "1719/1719 [==============================] - 4s 2ms/step - loss: 0.4384 - accuracy: 0.8465 - val_loss: 0.4282 - val_accuracy: 0.8496\n",
      "Epoch 4/100\n",
      "1719/1719 [==============================] - 3s 2ms/step - loss: 0.4121 - accuracy: 0.8561 - val_loss: 0.3894 - val_accuracy: 0.8658\n",
      "Epoch 5/100\n",
      "1719/1719 [==============================] - 3s 2ms/step - loss: 0.3923 - accuracy: 0.8630 - val_loss: 0.3717 - val_accuracy: 0.8720\n",
      "Epoch 6/100\n",
      "1719/1719 [==============================] - 2s 1ms/step - loss: 0.3760 - accuracy: 0.8678 - val_loss: 0.3694 - val_accuracy: 0.8734\n",
      "Epoch 7/100\n",
      "1719/1719 [==============================] - 3s 1ms/step - loss: 0.3625 - accuracy: 0.8715 - val_loss: 0.3600 - val_accuracy: 0.8750\n",
      "Epoch 8/100\n",
      "1719/1719 [==============================] - 2s 1ms/step - loss: 0.3510 - accuracy: 0.8752 - val_loss: 0.3634 - val_accuracy: 0.8712\n",
      "Epoch 9/100\n",
      "1719/1719 [==============================] - 2s 1ms/step - loss: 0.3415 - accuracy: 0.8797 - val_loss: 0.3759 - val_accuracy: 0.8630\n",
      "Epoch 10/100\n",
      "1719/1719 [==============================] - 2s 1ms/step - loss: 0.3316 - accuracy: 0.8818 - val_loss: 0.3579 - val_accuracy: 0.8726\n",
      "Epoch 11/100\n",
      "1719/1719 [==============================] - 2s 1ms/step - loss: 0.3238 - accuracy: 0.8849 - val_loss: 0.3487 - val_accuracy: 0.8754\n",
      "Epoch 12/100\n",
      "1719/1719 [==============================] - 3s 1ms/step - loss: 0.3160 - accuracy: 0.8871 - val_loss: 0.3329 - val_accuracy: 0.8808\n",
      "Epoch 13/100\n",
      "1719/1719 [==============================] - 3s 2ms/step - loss: 0.3090 - accuracy: 0.8890 - val_loss: 0.3284 - val_accuracy: 0.8862\n",
      "Epoch 14/100\n",
      "1719/1719 [==============================] - 2s 1ms/step - loss: 0.3028 - accuracy: 0.8919 - val_loss: 0.3354 - val_accuracy: 0.8824\n",
      "Epoch 15/100\n",
      "1719/1719 [==============================] - 2s 1ms/step - loss: 0.2966 - accuracy: 0.8941 - val_loss: 0.3384 - val_accuracy: 0.8816\n",
      "Epoch 16/100\n",
      "1719/1719 [==============================] - 2s 1ms/step - loss: 0.2902 - accuracy: 0.8968 - val_loss: 0.3219 - val_accuracy: 0.8876\n",
      "Epoch 17/100\n",
      "1719/1719 [==============================] - 2s 1ms/step - loss: 0.2842 - accuracy: 0.8992 - val_loss: 0.3129 - val_accuracy: 0.8910\n",
      "Epoch 18/100\n",
      "1719/1719 [==============================] - 2s 1ms/step - loss: 0.2789 - accuracy: 0.9007 - val_loss: 0.3139 - val_accuracy: 0.8870\n",
      "Epoch 19/100\n",
      "1719/1719 [==============================] - 2s 1ms/step - loss: 0.2746 - accuracy: 0.9010 - val_loss: 0.3075 - val_accuracy: 0.8890\n",
      "Epoch 20/100\n",
      "1719/1719 [==============================] - 2s 1ms/step - loss: 0.2695 - accuracy: 0.9033 - val_loss: 0.3083 - val_accuracy: 0.8904\n",
      "Epoch 21/100\n",
      "1719/1719 [==============================] - 2s 1ms/step - loss: 0.2636 - accuracy: 0.9048 - val_loss: 0.3074 - val_accuracy: 0.8938\n",
      "Epoch 22/100\n",
      "1719/1719 [==============================] - 2s 1ms/step - loss: 0.2601 - accuracy: 0.9061 - val_loss: 0.3071 - val_accuracy: 0.8910\n",
      "Epoch 23/100\n",
      "1719/1719 [==============================] - 2s 1ms/step - loss: 0.2545 - accuracy: 0.9088 - val_loss: 0.3022 - val_accuracy: 0.8928\n",
      "Epoch 24/100\n",
      "1719/1719 [==============================] - 2s 1ms/step - loss: 0.2501 - accuracy: 0.9091 - val_loss: 0.3119 - val_accuracy: 0.8874\n",
      "Epoch 25/100\n",
      "1719/1719 [==============================] - 2s 1ms/step - loss: 0.2469 - accuracy: 0.9118 - val_loss: 0.3093 - val_accuracy: 0.8876\n",
      "Epoch 26/100\n",
      "1719/1719 [==============================] - 2s 1ms/step - loss: 0.2431 - accuracy: 0.9138 - val_loss: 0.2966 - val_accuracy: 0.8978\n",
      "Epoch 27/100\n",
      "1719/1719 [==============================] - 2s 1ms/step - loss: 0.2386 - accuracy: 0.9145 - val_loss: 0.3060 - val_accuracy: 0.8916\n",
      "Epoch 28/100\n",
      "1719/1719 [==============================] - 2s 1ms/step - loss: 0.2346 - accuracy: 0.9162 - val_loss: 0.2982 - val_accuracy: 0.8972\n",
      "Epoch 29/100\n",
      "1719/1719 [==============================] - 2s 1ms/step - loss: 0.2302 - accuracy: 0.9175 - val_loss: 0.3039 - val_accuracy: 0.8954\n",
      "Epoch 30/100\n",
      "1719/1719 [==============================] - 2s 1ms/step - loss: 0.2265 - accuracy: 0.9185 - val_loss: 0.3008 - val_accuracy: 0.8932\n",
      "Epoch 31/100\n",
      "1719/1719 [==============================] - 2s 1ms/step - loss: 0.2232 - accuracy: 0.9195 - val_loss: 0.3032 - val_accuracy: 0.8910\n"
     ]
    }
   ],
   "source": [
    "history = model.fit(x_train,y_train,\n",
    "                    epochs = 100,\n",
    "                    validation_data =(x_valid,y_valid),\n",
    "                    batch_size=32,           \n",
    "                    callbacks = callbacks)"
   ]
  },
  {
   "cell_type": "code",
   "execution_count": 21,
   "metadata": {},
   "outputs": [
    {
     "data": {
      "text/plain": [
       "<matplotlib.axes._subplots.AxesSubplot at 0x277c3ee2c88>"
      ]
     },
     "execution_count": 21,
     "metadata": {},
     "output_type": "execute_result"
    },
    {
     "data": {
      "image/png": "[encoded data removed]",
      "text/plain": [
       "<Figure size 432x288 with 1 Axes>"
      ]
     },
     "metadata": {
      "needs_background": "light"
     },
     "output_type": "display_data"
    }
   ],
   "source": [
    "pd.DataFrame(history.history).plot()"
   ]
  },
  {
   "cell_type": "code",
   "execution_count": 22,
   "metadata": {},
   "outputs": [
    {
     "name": "stdout",
     "output_type": "stream",
     "text": [
      "313/313 [==============================] - 0s 1ms/step - loss: 64.8174 - accuracy: 0.8486\n"
     ]
    },
    {
     "data": {
      "text/plain": [
       "[64.81742095947266, 0.8485999703407288]"
      ]
     },
     "execution_count": 22,
     "metadata": {},
     "output_type": "execute_result"
    }
   ],
   "source": [
    "model.evaluate(x_test,y_test)"
   ]
  },
  {
   "cell_type": "code",
   "execution_count": 23,
   "metadata": {},
   "outputs": [
    {
     "name": "stdout",
     "output_type": "stream",
     "text": [
      "Actual Image Predicted\n"
     ]
    },
    {
     "data": {
      "image/png": "[encoded data removed]",
      "text/plain": [
       "<Figure size 432x288 with 1 Axes>"
      ]
     },
     "metadata": {
      "needs_background": "light"
     },
     "output_type": "display_data"
    },
    {
     "name": "stdout",
     "output_type": "stream",
     "text": [
      "Actual Output Value = 9 \n",
      "Actual Image Predicted\n"
     ]
    },
    {
     "data": {
      "image/png": "[encoded data removed]",
      "text/plain": [
       "<Figure size 432x288 with 1 Axes>"
      ]
     },
     "metadata": {
      "needs_background": "light"
     },
     "output_type": "display_data"
    },
    {
     "name": "stdout",
     "output_type": "stream",
     "text": [
      "Actual Output Value = 2 \n",
      "Actual Image Predicted\n"
     ]
    },
    {
     "data": {
      "image/png": "[encoded data removed]",
      "text/plain": [
       "<Figure size 432x288 with 1 Axes>"
      ]
     },
     "metadata": {
      "needs_background": "light"
     },
     "output_type": "display_data"
    },
    {
     "name": "stdout",
     "output_type": "stream",
     "text": [
      "Actual Output Value = 1 \n",
      "Actual Image Predicted\n"
     ]
    },
    {
     "data": {
      "image/png": "[encoded data removed]",
      "text/plain": [
       "<Figure size 432x288 with 1 Axes>"
      ]
     },
     "metadata": {
      "needs_background": "light"
     },
     "output_type": "display_data"
    },
    {
     "name": "stdout",
     "output_type": "stream",
     "text": [
      "Actual Output Value = 1 \n",
      "Actual Image Predicted\n"
     ]
    },
    {
     "data": {
      "image/png": "[encoded data removed]",
      "text/plain": [
       "<Figure size 432x288 with 1 Axes>"
      ]
     },
     "metadata": {
      "needs_background": "light"
     },
     "output_type": "display_data"
    },
    {
     "name": "stdout",
     "output_type": "stream",
     "text": [
      "Actual Output Value = 6 \n",
      "Actual Image Predicted\n"
     ]
    },
    {
     "data": {
      "image/png": "[encoded data removed]",
      "text/plain": [
       "<Figure size 432x288 with 1 Axes>"
      ]
     },
     "metadata": {
      "needs_background": "light"
     },
     "output_type": "display_data"
    },
    {
     "name": "stdout",
     "output_type": "stream",
     "text": [
      "Actual Output Value = 1 \n",
      "Actual Image Predicted\n"
     ]
    },
    {
     "data": {
      "image/png": "[encoded data removed]",
      "text/plain": [
       "<Figure size 432x288 with 1 Axes>"
      ]
     },
     "metadata": {
      "needs_background": "light"
     },
     "output_type": "display_data"
    },
    {
     "name": "stdout",
     "output_type": "stream",
     "text": [
      "Actual Output Value = 4 \n",
      "Actual Image Predicted\n"
     ]
    },
    {
     "data": {
      "image/png": "[encoded data removed]",
      "text/plain": [
       "<Figure size 432x288 with 1 Axes>"
      ]
     },
     "metadata": {
      "needs_background": "light"
     },
     "output_type": "display_data"
    },
    {
     "name": "stdout",
     "output_type": "stream",
     "text": [
      "Actual Output Value = 6 \n",
      "Actual Image Predicted\n"
     ]
    },
    {
     "data": {
      "image/png": "[encoded data removed]",
      "text/plain": [
       "<Figure size 432x288 with 1 Axes>"
      ]
     },
     "metadata": {
      "needs_background": "light"
     },
     "output_type": "display_data"
    },
    {
     "name": "stdout",
     "output_type": "stream",
     "text": [
      "Actual Output Value = 5 \n",
      "Actual Image Predicted\n"
     ]
    },
    {
     "data": {
      "image/png": "[encoded data removed]",
      "text/plain": [
       "<Figure size 432x288 with 1 Axes>"
      ]
     },
     "metadata": {
      "needs_background": "light"
     },
     "output_type": "display_data"
    },
    {
     "name": "stdout",
     "output_type": "stream",
     "text": [
      "Actual Output Value = 7 \n"
     ]
    }
   ],
   "source": [
    "for i in range(0,10):\n",
    "    print(\"Actual Image Predicted\")\n",
    "    plt.imshow(x_test[i],cmap='gray')\n",
    "    plt.show()    \n",
    "    print(f\"Actual Output Value = {y_test[i]} \")"
   ]
  },
  {
   "cell_type": "markdown",
   "metadata": {},
   "source": [
    "# Regression Problem Solving with the help of Keras"
   ]
  },
  {
   "cell_type": "code",
   "execution_count": 24,
   "metadata": {},
   "outputs": [],
   "source": [
    "import numpy as np\n",
    "import pandas as pd\n",
    "import matplotlib.pyplot as plt\n",
    "import seaborn as sns\n",
    "import tensorflow as tf\n",
    "from sklearn.datasets import fetch_california_housing\n",
    "from sklearn.model_selection import train_test_split\n",
    "from sklearn.preprocessing import StandardScaler"
   ]
  },
  {
   "cell_type": "code",
   "execution_count": 25,
   "metadata": {},
   "outputs": [],
   "source": [
    "housing = fetch_california_housing()"
   ]
  },
  {
   "cell_type": "code",
   "execution_count": 27,
   "metadata": {},
   "outputs": [
    {
     "data": {
      "text/plain": [
       "dict_keys(['data', 'target', 'frame', 'target_names', 'feature_names', 'DESCR'])"
      ]
     },
     "execution_count": 27,
     "metadata": {},
     "output_type": "execute_result"
    }
   ],
   "source": [
    "housing.keys()"
   ]
  },
  {
   "cell_type": "code",
   "execution_count": 28,
   "metadata": {},
   "outputs": [],
   "source": [
    "# Splitting data in dependent and independent form\n",
    "X = pd.DataFrame(housing.data,columns = housing.feature_names)"
   ]
  },
  {
   "cell_type": "code",
   "execution_count": 29,
   "metadata": {},
   "outputs": [
    {
     "data": {
      "text/html": [
       "<div>\n",
       "<style scoped>\n",
       "    .dataframe tbody tr th:only-of-type {\n",
       "        vertical-align: middle;\n",
       "    }\n",
       "\n",
       "    .dataframe tbody tr th {\n",
       "        vertical-align: top;\n",
       "    }\n",
       "\n",
       "    .dataframe thead th {\n",
       "        text-align: right;\n",
       "    }\n",
       "</style>\n",
       "<table border=\"1\" class=\"dataframe\">\n",
       "  <thead>\n",
       "    <tr style=\"text-align: right;\">\n",
       "      <th></th>\n",
       "      <th>MedInc</th>\n",
       "      <th>HouseAge</th>\n",
       "      <th>AveRooms</th>\n",
       "      <th>AveBedrms</th>\n",
       "      <th>Population</th>\n",
       "      <th>AveOccup</th>\n",
       "      <th>Latitude</th>\n",
       "      <th>Longitude</th>\n",
       "    </tr>\n",
       "  </thead>\n",
       "  <tbody>\n",
       "    <tr>\n",
       "      <th>0</th>\n",
       "      <td>8.3252</td>\n",
       "      <td>41.0</td>\n",
       "      <td>6.984127</td>\n",
       "      <td>1.023810</td>\n",
       "      <td>322.0</td>\n",
       "      <td>2.555556</td>\n",
       "      <td>37.88</td>\n",
       "      <td>-122.23</td>\n",
       "    </tr>\n",
       "    <tr>\n",
       "      <th>1</th>\n",
       "      <td>8.3014</td>\n",
       "      <td>21.0</td>\n",
       "      <td>6.238137</td>\n",
       "      <td>0.971880</td>\n",
       "      <td>2401.0</td>\n",
       "      <td>2.109842</td>\n",
       "      <td>37.86</td>\n",
       "      <td>-122.22</td>\n",
       "    </tr>\n",
       "    <tr>\n",
       "      <th>2</th>\n",
       "      <td>7.2574</td>\n",
       "      <td>52.0</td>\n",
       "      <td>8.288136</td>\n",
       "      <td>1.073446</td>\n",
       "      <td>496.0</td>\n",
       "      <td>2.802260</td>\n",
       "      <td>37.85</td>\n",
       "      <td>-122.24</td>\n",
       "    </tr>\n",
       "    <tr>\n",
       "      <th>3</th>\n",
       "      <td>5.6431</td>\n",
       "      <td>52.0</td>\n",
       "      <td>5.817352</td>\n",
       "      <td>1.073059</td>\n",
       "      <td>558.0</td>\n",
       "      <td>2.547945</td>\n",
       "      <td>37.85</td>\n",
       "      <td>-122.25</td>\n",
       "    </tr>\n",
       "    <tr>\n",
       "      <th>4</th>\n",
       "      <td>3.8462</td>\n",
       "      <td>52.0</td>\n",
       "      <td>6.281853</td>\n",
       "      <td>1.081081</td>\n",
       "      <td>565.0</td>\n",
       "      <td>2.181467</td>\n",
       "      <td>37.85</td>\n",
       "      <td>-122.25</td>\n",
       "    </tr>\n",
       "  </tbody>\n",
       "</table>\n",
       "</div>"
      ],
      "text/plain": [
       "   MedInc  HouseAge  AveRooms  AveBedrms  Population  AveOccup  Latitude  \\\n",
       "0  8.3252      41.0  6.984127   1.023810       322.0  2.555556     37.88   \n",
       "1  8.3014      21.0  6.238137   0.971880      2401.0  2.109842     37.86   \n",
       "2  7.2574      52.0  8.288136   1.073446       496.0  2.802260     37.85   \n",
       "3  5.6431      52.0  5.817352   1.073059       558.0  2.547945     37.85   \n",
       "4  3.8462      52.0  6.281853   1.081081       565.0  2.181467     37.85   \n",
       "\n",
       "   Longitude  \n",
       "0    -122.23  \n",
       "1    -122.22  \n",
       "2    -122.24  \n",
       "3    -122.25  \n",
       "4    -122.25  "
      ]
     },
     "execution_count": 29,
     "metadata": {},
     "output_type": "execute_result"
    }
   ],
   "source": [
    "X.head()"
   ]
  },
  {
   "cell_type": "code",
   "execution_count": 30,
   "metadata": {},
   "outputs": [],
   "source": [
    "Y = pd.DataFrame(housing.target,columns=[\"target\"])"
   ]
  },
  {
   "cell_type": "code",
   "execution_count": 31,
   "metadata": {},
   "outputs": [
    {
     "data": {
      "text/plain": [
       "(20640, 8)"
      ]
     },
     "execution_count": 31,
     "metadata": {},
     "output_type": "execute_result"
    }
   ],
   "source": [
    "X.shape"
   ]
  },
  {
   "cell_type": "code",
   "execution_count": 32,
   "metadata": {},
   "outputs": [
    {
     "data": {
      "text/plain": [
       "(20640, 1)"
      ]
     },
     "execution_count": 32,
     "metadata": {},
     "output_type": "execute_result"
    }
   ],
   "source": [
    "Y.shape"
   ]
  },
  {
   "cell_type": "code",
   "execution_count": 36,
   "metadata": {},
   "outputs": [],
   "source": [
    "#So it has 20640 rows so we will be creating a validation set\n",
    "x_train,x_test,y_train,y_test = train_test_split(X,Y, random_state=43)"
   ]
  },
  {
   "cell_type": "code",
   "execution_count": 37,
   "metadata": {},
   "outputs": [],
   "source": [
    "# now creating the validation set\n"
   ]
  },
  {
   "cell_type": "code",
   "execution_count": 38,
   "metadata": {},
   "outputs": [
    {
     "data": {
      "text/plain": [
       "(15480, 8)"
      ]
     },
     "execution_count": 38,
     "metadata": {},
     "output_type": "execute_result"
    }
   ],
   "source": [
    "x_train.shape"
   ]
  },
  {
   "cell_type": "code",
   "execution_count": 39,
   "metadata": {},
   "outputs": [
    {
     "data": {
      "text/plain": [
       "(5160, 8)"
      ]
     },
     "execution_count": 39,
     "metadata": {},
     "output_type": "execute_result"
    }
   ],
   "source": [
    "x_test.shape"
   ]
  },
  {
   "cell_type": "code",
   "execution_count": 40,
   "metadata": {},
   "outputs": [
    {
     "data": {
      "text/plain": [
       "(15480, 1)"
      ]
     },
     "execution_count": 40,
     "metadata": {},
     "output_type": "execute_result"
    }
   ],
   "source": [
    "y_train.shape"
   ]
  },
  {
   "cell_type": "code",
   "execution_count": 41,
   "metadata": {},
   "outputs": [
    {
     "data": {
      "text/plain": [
       "(5160, 1)"
      ]
     },
     "execution_count": 41,
     "metadata": {},
     "output_type": "execute_result"
    }
   ],
   "source": [
    "y_test.shape"
   ]
  },
  {
   "cell_type": "code",
   "execution_count": 42,
   "metadata": {},
   "outputs": [],
   "source": [
    "x_training,x_valid,y_training,y_valid =train_test_split(x_train,y_train,random_state=42) "
   ]
  },
  {
   "cell_type": "code",
   "execution_count": 43,
   "metadata": {},
   "outputs": [
    {
     "name": "stdout",
     "output_type": "stream",
     "text": [
      "training shape (11610, 8)   (11610, 1)\n"
     ]
    }
   ],
   "source": [
    "print(\"training shape\",x_training.shape,\" \",y_training.shape)\n"
   ]
  },
  {
   "cell_type": "code",
   "execution_count": 44,
   "metadata": {},
   "outputs": [
    {
     "name": "stdout",
     "output_type": "stream",
     "text": [
      "testing shape (5160, 8)   (5160, 1)\n"
     ]
    }
   ],
   "source": [
    "print(\"testing shape\",x_test.shape,\" \",y_test.shape)"
   ]
  },
  {
   "cell_type": "code",
   "execution_count": 45,
   "metadata": {},
   "outputs": [],
   "source": [
    "\n",
    "model= tf.keras.models.Sequential()"
   ]
  },
  {
   "cell_type": "code",
   "execution_count": 46,
   "metadata": {},
   "outputs": [],
   "source": [
    "model.add(tf.keras.layers.Dense(35,activation='relu',input_shape=[8]))\n",
    "model.add(tf.keras.layers.Dense(10,activation='relu'))\n",
    "model.add(tf.keras.layers.Dense(5,activation='relu'))\n",
    "model.add(tf.keras.layers.Dense(1))"
   ]
  },
  {
   "cell_type": "code",
   "execution_count": 47,
   "metadata": {},
   "outputs": [],
   "source": [
    "model.compile(loss='mse',optimizer='sgd')"
   ]
  },
  {
   "cell_type": "code",
   "execution_count": 48,
   "metadata": {},
   "outputs": [],
   "source": [
    "\n",
    "scaler = StandardScaler()"
   ]
  },
  {
   "cell_type": "code",
   "execution_count": 49,
   "metadata": {},
   "outputs": [],
   "source": [
    "x_train = scaler.fit_transform(x_training)\n",
    "x_valid = scaler.transform(x_valid)\n",
    "x_test = scaler.transform(x_test)"
   ]
  },
  {
   "cell_type": "code",
   "execution_count": 50,
   "metadata": {},
   "outputs": [
    {
     "name": "stdout",
     "output_type": "stream",
     "text": [
      "Epoch 1/25\n",
      "363/363 [==============================] - 0s 866us/step - loss: 0.7980 - val_loss: 0.5420\n",
      "Epoch 2/25\n",
      "363/363 [==============================] - 0s 646us/step - loss: 0.6010 - val_loss: 0.5028\n",
      "Epoch 3/25\n",
      "363/363 [==============================] - 0s 636us/step - loss: 0.4789 - val_loss: 0.4567\n",
      "Epoch 4/25\n",
      "363/363 [==============================] - 0s 699us/step - loss: 0.4453 - val_loss: 0.4316\n",
      "Epoch 5/25\n",
      "363/363 [==============================] - 0s 647us/step - loss: 0.4288 - val_loss: 0.4174\n",
      "Epoch 6/25\n",
      "363/363 [==============================] - 0s 620us/step - loss: 0.4521 - val_loss: 0.4274\n",
      "Epoch 7/25\n",
      "363/363 [==============================] - 0s 633us/step - loss: 0.4166 - val_loss: 0.4095\n",
      "Epoch 8/25\n",
      "363/363 [==============================] - 0s 628us/step - loss: 0.4024 - val_loss: 0.3962\n",
      "Epoch 9/25\n",
      "363/363 [==============================] - 0s 631us/step - loss: 0.3924 - val_loss: 0.3892\n",
      "Epoch 10/25\n",
      "363/363 [==============================] - 0s 636us/step - loss: 0.3864 - val_loss: 0.3874\n",
      "Epoch 11/25\n",
      "363/363 [==============================] - 0s 652us/step - loss: 0.3822 - val_loss: 0.3859\n",
      "Epoch 12/25\n",
      "363/363 [==============================] - 0s 712us/step - loss: 0.3765 - val_loss: 0.3734\n",
      "Epoch 13/25\n",
      "363/363 [==============================] - 0s 690us/step - loss: 0.3709 - val_loss: 0.3712\n",
      "Epoch 14/25\n",
      "363/363 [==============================] - 0s 635us/step - loss: 0.3668 - val_loss: 0.4174\n",
      "Epoch 15/25\n",
      "363/363 [==============================] - 0s 635us/step - loss: 0.3638 - val_loss: 0.3624\n",
      "Epoch 16/25\n",
      "363/363 [==============================] - 0s 664us/step - loss: 0.3600 - val_loss: 0.3759\n",
      "Epoch 17/25\n",
      "363/363 [==============================] - 0s 630us/step - loss: 0.3560 - val_loss: 0.3623\n",
      "Epoch 18/25\n",
      "363/363 [==============================] - 0s 650us/step - loss: 0.3529 - val_loss: 0.3670\n",
      "Epoch 19/25\n",
      "363/363 [==============================] - 0s 646us/step - loss: 0.3512 - val_loss: 0.3480\n",
      "Epoch 20/25\n",
      "363/363 [==============================] - 0s 668us/step - loss: 0.3466 - val_loss: 0.3468\n",
      "Epoch 21/25\n",
      "363/363 [==============================] - 0s 659us/step - loss: 0.3456 - val_loss: 0.3789\n",
      "Epoch 22/25\n",
      "363/363 [==============================] - 0s 668us/step - loss: 0.3422 - val_loss: 0.3408\n",
      "Epoch 23/25\n",
      "363/363 [==============================] - 0s 630us/step - loss: 0.3404 - val_loss: 0.3404\n",
      "Epoch 24/25\n",
      "363/363 [==============================] - 0s 644us/step - loss: 0.3393 - val_loss: 0.3452\n",
      "Epoch 25/25\n",
      "363/363 [==============================] - 0s 643us/step - loss: 0.3354 - val_loss: 0.3567\n"
     ]
    }
   ],
   "source": [
    "history = model.fit(x_train,y_training,epochs=25,validation_data = (x_valid,y_valid))"
   ]
  },
  {
   "cell_type": "markdown",
   "metadata": {},
   "source": [
    "# Class 10"
   ]
  },
  {
   "cell_type": "markdown",
   "metadata": {},
   "source": [
    "Whenever we train a Deep Neural Network We usually encounter a lot of problems while training\n",
    "\n",
    "1)One major problem is of vanishing and exploding gradients\n",
    "\n",
    "In Vanishing Gradients our gradient value of the error becomes too small .\n",
    "\n",
    "In Exploding Gradients our gradient value of the error function becomes large.\n",
    "\n",
    "In both the cases we wont achieve an optimum solution .\n",
    "\n",
    "\n",
    "\n",
    "2)There is a problem is the neural network that it requires a lot of data for training , suppose we have a data consisting of 100s of classes \n",
    "then for each individual class we should contain atleast 500 to 600 Images for better classification . Sometimes we dont have the large dataset. \n",
    "\n",
    "So these problems can be solved by augmentation (Where we twist the images or flip the images or sometimes stretch the images or compress the images) , or transfer learning etc.\n",
    "\n",
    "\n",
    "3) When we increase the depth of the neural netwok by increasing the number of hidden layers then it will lead to the slow learning .\n",
    "\n",
    "So the solution for this will be to use a good optimizer or to use a good activation function . "
   ]
  },
  {
   "cell_type": "markdown",
   "metadata": {},
   "source": [
    "4)Overfitting Occurs when we try to train our data on a really large dataset and without preprocessing and scalling the data so our model tends to overfit and it gives good accuracy on the training data but shows poor results on the testing data."
   ]
  },
  {
   "cell_type": "markdown",
   "metadata": {},
   "source": [
    "# Vanishing and Exploding Gradients Observations"
   ]
  },
  {
   "cell_type": "markdown",
   "metadata": {},
   "source": [
    "So the first observation is that when we try to calculate the derivative of the activation function , then the role of choosing an activation function is really important . \n",
    "\n",
    "Because different activation function have different values . For example sigmoid activation function have different value as compared to relu activation function .\n",
    "\n"
   ]
  },
  {
   "cell_type": "markdown",
   "metadata": {},
   "source": [
    "# Derivatives Depends on Choice of Activation Function and Weight Initialization"
   ]
  },
  {
   "cell_type": "markdown",
   "metadata": {},
   "source": [
    "## Major Observations Were"
   ]
  },
  {
   "cell_type": "markdown",
   "metadata": {},
   "source": [
    "1) While calculating the derivative of error with respect to the weights we saw that all the components were ratios.\n",
    "\n",
    "IF these ratios lie in the range of 0 to 1 then the resultant derivative will be small , and since we will multiply this small value with the learning rate as well then the reultant will be even smaller value.\n",
    "\n",
    "So the weight updation will be extremely small . \n",
    "\n",
    "It means that gradients are there but vanished .\n",
    "\n",
    "\n",
    "2) Now suppose the compnents present in the calculation of derivative of error with respect to the weights , it ranges btw 1 to some +ve value ,\n",
    "\n",
    "then the resultant will be high , and also after multiplying it with the learning rate then also the value will be moderate and it will bring a significant change in the value of weights updation .\n",
    "\n",
    "Thus leading to the unstability .\n",
    "\n",
    "\n",
    "3)Vanishing and Exploding gradient also depends on the choice of the activation function and the weight initialization technique.\n",
    "\n",
    "It was also observed by Xavier Glorot and Yushuwa Benjio in the paper titled \"Understanding the difficulty of training the deep feed forward neural network\" .\n",
    "\n",
    "Because of vanishing and exploding gradients the lower layers dont get updated since the components resultant values becomes really small.\n",
    "\n"
   ]
  },
  {
   "cell_type": "markdown",
   "metadata": {},
   "source": [
    "# Solution For The Problem Of Vanishing And Exploding Gradients"
   ]
  },
  {
   "cell_type": "markdown",
   "metadata": {},
   "source": [
    "Fan_in = number of inputs coming into the neuron\n",
    "\n",
    "Fan_out = number of outputs going from the neuron\n",
    "\n",
    "If Fan_in = Fan_out then the problem of exploding gradient wont be there or also if their variance are same .\n",
    "\n",
    "Xavier Glorot and Yushwa Benjio also said that the weights must be initialized in such a way such that :\n",
    "    \n",
    "    fan_avg = (fan_in + fan_out)/2\n",
    "    \n",
    "    for the sigmoid func if we are taking the normal distribution then variance = 1/fan_avg\n",
    "\n"
   ]
  },
  {
   "cell_type": "code",
   "execution_count": null,
   "metadata": {},
   "outputs": [],
   "source": []
  }
 ],
 "metadata": {
  "kernelspec": {
   "display_name": "Python 3",
   "language": "python",
   "name": "python3"
  },
  "language_info": {
   "codemirror_mode": {
    "name": "ipython",
    "version": 3
   },
   "file_extension": ".py",
   "mimetype": "text/x-python",
   "name": "python",
   "nbconvert_exporter": "python",
   "pygments_lexer": "ipython3",
   "version": "3.7.6"
  }
 },
 "nbformat": 4,
 "nbformat_minor": 4
}
