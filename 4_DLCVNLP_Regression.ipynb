{
 "cells": [
  {
   "cell_type": "markdown",
   "metadata": {},
   "source": [
    "# Solving Regression Problem using ANN"
   ]
  },
  {
   "cell_type": "code",
   "execution_count": 1,
   "metadata": {},
   "outputs": [],
   "source": [
    "import numpy as np\n",
    "import pandas as pd\n",
    "import matplotlib.pyplot as plt\n",
    "import seaborn as sns\n",
    "import tensorflow as tf\n",
    "from sklearn.datasets import fetch_california_housing\n",
    "from sklearn.model_selection import train_test_split\n",
    "from sklearn.preprocessing import StandardScaler"
   ]
  },
  {
   "cell_type": "code",
   "execution_count": 2,
   "metadata": {},
   "outputs": [],
   "source": [
    "housing = fetch_california_housing()"
   ]
  },
  {
   "cell_type": "code",
   "execution_count": 3,
   "metadata": {},
   "outputs": [
    {
     "data": {
      "text/plain": [
       "{'data': array([[   8.3252    ,   41.        ,    6.98412698, ...,    2.55555556,\n",
       "           37.88      , -122.23      ],\n",
       "        [   8.3014    ,   21.        ,    6.23813708, ...,    2.10984183,\n",
       "           37.86      , -122.22      ],\n",
       "        [   7.2574    ,   52.        ,    8.28813559, ...,    2.80225989,\n",
       "           37.85      , -122.24      ],\n",
       "        ...,\n",
       "        [   1.7       ,   17.        ,    5.20554273, ...,    2.3256351 ,\n",
       "           39.43      , -121.22      ],\n",
       "        [   1.8672    ,   18.        ,    5.32951289, ...,    2.12320917,\n",
       "           39.43      , -121.32      ],\n",
       "        [   2.3886    ,   16.        ,    5.25471698, ...,    2.61698113,\n",
       "           39.37      , -121.24      ]]),\n",
       " 'target': array([4.526, 3.585, 3.521, ..., 0.923, 0.847, 0.894]),\n",
       " 'frame': None,\n",
       " 'target_names': ['MedHouseVal'],\n",
       " 'feature_names': ['MedInc',\n",
       "  'HouseAge',\n",
       "  'AveRooms',\n",
       "  'AveBedrms',\n",
       "  'Population',\n",
       "  'AveOccup',\n",
       "  'Latitude',\n",
       "  'Longitude'],\n",
       " 'DESCR': '.. _california_housing_dataset:\\n\\nCalifornia Housing dataset\\n--------------------------\\n\\n**Data Set Characteristics:**\\n\\n    :Number of Instances: 20640\\n\\n    :Number of Attributes: 8 numeric, predictive attributes and the target\\n\\n    :Attribute Information:\\n        - MedInc        median income in block\\n        - HouseAge      median house age in block\\n        - AveRooms      average number of rooms\\n        - AveBedrms     average number of bedrooms\\n        - Population    block population\\n        - AveOccup      average house occupancy\\n        - Latitude      house block latitude\\n        - Longitude     house block longitude\\n\\n    :Missing Attribute Values: None\\n\\nThis dataset was obtained from the StatLib repository.\\nhttp://lib.stat.cmu.edu/datasets/\\n\\nThe target variable is the median house value for California districts.\\n\\nThis dataset was derived from the 1990 U.S. census, using one row per census\\nblock group. A block group is the smallest geographical unit for which the U.S.\\nCensus Bureau publishes sample data (a block group typically has a population\\nof 600 to 3,000 people).\\n\\nIt can be downloaded/loaded using the\\n:func:`sklearn.datasets.fetch_california_housing` function.\\n\\n.. topic:: References\\n\\n    - Pace, R. Kelley and Ronald Barry, Sparse Spatial Autoregressions,\\n      Statistics and Probability Letters, 33 (1997) 291-297\\n'}"
      ]
     },
     "execution_count": 3,
     "metadata": {},
     "output_type": "execute_result"
    }
   ],
   "source": [
    "housing"
   ]
  },
  {
   "cell_type": "code",
   "execution_count": 4,
   "metadata": {},
   "outputs": [],
   "source": [
    "# seperating the dependent and the independent data"
   ]
  },
  {
   "cell_type": "code",
   "execution_count": 5,
   "metadata": {},
   "outputs": [],
   "source": [
    "X = housing.data"
   ]
  },
  {
   "cell_type": "code",
   "execution_count": 6,
   "metadata": {},
   "outputs": [],
   "source": [
    "y = housing.target"
   ]
  },
  {
   "cell_type": "code",
   "execution_count": 7,
   "metadata": {},
   "outputs": [],
   "source": [
    "X = pd.DataFrame(X,columns = housing.feature_names)"
   ]
  },
  {
   "cell_type": "code",
   "execution_count": 8,
   "metadata": {},
   "outputs": [
    {
     "data": {
      "text/html": [
       "<div>\n",
       "<style scoped>\n",
       "    .dataframe tbody tr th:only-of-type {\n",
       "        vertical-align: middle;\n",
       "    }\n",
       "\n",
       "    .dataframe tbody tr th {\n",
       "        vertical-align: top;\n",
       "    }\n",
       "\n",
       "    .dataframe thead th {\n",
       "        text-align: right;\n",
       "    }\n",
       "</style>\n",
       "<table border=\"1\" class=\"dataframe\">\n",
       "  <thead>\n",
       "    <tr style=\"text-align: right;\">\n",
       "      <th></th>\n",
       "      <th>MedInc</th>\n",
       "      <th>HouseAge</th>\n",
       "      <th>AveRooms</th>\n",
       "      <th>AveBedrms</th>\n",
       "      <th>Population</th>\n",
       "      <th>AveOccup</th>\n",
       "      <th>Latitude</th>\n",
       "      <th>Longitude</th>\n",
       "    </tr>\n",
       "  </thead>\n",
       "  <tbody>\n",
       "    <tr>\n",
       "      <th>0</th>\n",
       "      <td>8.3252</td>\n",
       "      <td>41.0</td>\n",
       "      <td>6.984127</td>\n",
       "      <td>1.023810</td>\n",
       "      <td>322.0</td>\n",
       "      <td>2.555556</td>\n",
       "      <td>37.88</td>\n",
       "      <td>-122.23</td>\n",
       "    </tr>\n",
       "    <tr>\n",
       "      <th>1</th>\n",
       "      <td>8.3014</td>\n",
       "      <td>21.0</td>\n",
       "      <td>6.238137</td>\n",
       "      <td>0.971880</td>\n",
       "      <td>2401.0</td>\n",
       "      <td>2.109842</td>\n",
       "      <td>37.86</td>\n",
       "      <td>-122.22</td>\n",
       "    </tr>\n",
       "    <tr>\n",
       "      <th>2</th>\n",
       "      <td>7.2574</td>\n",
       "      <td>52.0</td>\n",
       "      <td>8.288136</td>\n",
       "      <td>1.073446</td>\n",
       "      <td>496.0</td>\n",
       "      <td>2.802260</td>\n",
       "      <td>37.85</td>\n",
       "      <td>-122.24</td>\n",
       "    </tr>\n",
       "    <tr>\n",
       "      <th>3</th>\n",
       "      <td>5.6431</td>\n",
       "      <td>52.0</td>\n",
       "      <td>5.817352</td>\n",
       "      <td>1.073059</td>\n",
       "      <td>558.0</td>\n",
       "      <td>2.547945</td>\n",
       "      <td>37.85</td>\n",
       "      <td>-122.25</td>\n",
       "    </tr>\n",
       "    <tr>\n",
       "      <th>4</th>\n",
       "      <td>3.8462</td>\n",
       "      <td>52.0</td>\n",
       "      <td>6.281853</td>\n",
       "      <td>1.081081</td>\n",
       "      <td>565.0</td>\n",
       "      <td>2.181467</td>\n",
       "      <td>37.85</td>\n",
       "      <td>-122.25</td>\n",
       "    </tr>\n",
       "  </tbody>\n",
       "</table>\n",
       "</div>"
      ],
      "text/plain": [
       "   MedInc  HouseAge  AveRooms  AveBedrms  Population  AveOccup  Latitude  \\\n",
       "0  8.3252      41.0  6.984127   1.023810       322.0  2.555556     37.88   \n",
       "1  8.3014      21.0  6.238137   0.971880      2401.0  2.109842     37.86   \n",
       "2  7.2574      52.0  8.288136   1.073446       496.0  2.802260     37.85   \n",
       "3  5.6431      52.0  5.817352   1.073059       558.0  2.547945     37.85   \n",
       "4  3.8462      52.0  6.281853   1.081081       565.0  2.181467     37.85   \n",
       "\n",
       "   Longitude  \n",
       "0    -122.23  \n",
       "1    -122.22  \n",
       "2    -122.24  \n",
       "3    -122.25  \n",
       "4    -122.25  "
      ]
     },
     "execution_count": 8,
     "metadata": {},
     "output_type": "execute_result"
    }
   ],
   "source": [
    "X.head()"
   ]
  },
  {
   "cell_type": "code",
   "execution_count": 9,
   "metadata": {},
   "outputs": [],
   "source": [
    "y = pd.DataFrame(y,columns=['testing'])"
   ]
  },
  {
   "cell_type": "code",
   "execution_count": 10,
   "metadata": {},
   "outputs": [
    {
     "data": {
      "text/html": [
       "<div>\n",
       "<style scoped>\n",
       "    .dataframe tbody tr th:only-of-type {\n",
       "        vertical-align: middle;\n",
       "    }\n",
       "\n",
       "    .dataframe tbody tr th {\n",
       "        vertical-align: top;\n",
       "    }\n",
       "\n",
       "    .dataframe thead th {\n",
       "        text-align: right;\n",
       "    }\n",
       "</style>\n",
       "<table border=\"1\" class=\"dataframe\">\n",
       "  <thead>\n",
       "    <tr style=\"text-align: right;\">\n",
       "      <th></th>\n",
       "      <th>testing</th>\n",
       "    </tr>\n",
       "  </thead>\n",
       "  <tbody>\n",
       "    <tr>\n",
       "      <th>0</th>\n",
       "      <td>4.526</td>\n",
       "    </tr>\n",
       "    <tr>\n",
       "      <th>1</th>\n",
       "      <td>3.585</td>\n",
       "    </tr>\n",
       "    <tr>\n",
       "      <th>2</th>\n",
       "      <td>3.521</td>\n",
       "    </tr>\n",
       "    <tr>\n",
       "      <th>3</th>\n",
       "      <td>3.413</td>\n",
       "    </tr>\n",
       "    <tr>\n",
       "      <th>4</th>\n",
       "      <td>3.422</td>\n",
       "    </tr>\n",
       "  </tbody>\n",
       "</table>\n",
       "</div>"
      ],
      "text/plain": [
       "   testing\n",
       "0    4.526\n",
       "1    3.585\n",
       "2    3.521\n",
       "3    3.413\n",
       "4    3.422"
      ]
     },
     "execution_count": 10,
     "metadata": {},
     "output_type": "execute_result"
    }
   ],
   "source": [
    "y.head()"
   ]
  },
  {
   "cell_type": "code",
   "execution_count": 12,
   "metadata": {},
   "outputs": [
    {
     "data": {
      "text/plain": [
       "(20640, 8)"
      ]
     },
     "execution_count": 12,
     "metadata": {},
     "output_type": "execute_result"
    }
   ],
   "source": [
    "X.shape"
   ]
  },
  {
   "cell_type": "code",
   "execution_count": 13,
   "metadata": {},
   "outputs": [],
   "source": [
    "# so we have 20640 rows and 8 columns"
   ]
  },
  {
   "cell_type": "code",
   "execution_count": 14,
   "metadata": {},
   "outputs": [],
   "source": [
    "# creating the training , testing and the validation set\n",
    "x_train_full , x_test , y_train_full, ytest = train_test_split(X,y,random_state=42)"
   ]
  },
  {
   "cell_type": "code",
   "execution_count": 16,
   "metadata": {},
   "outputs": [
    {
     "data": {
      "text/plain": [
       "(15480, 8)"
      ]
     },
     "execution_count": 16,
     "metadata": {},
     "output_type": "execute_result"
    }
   ],
   "source": [
    "x_train_full.shape"
   ]
  },
  {
   "cell_type": "code",
   "execution_count": 17,
   "metadata": {},
   "outputs": [],
   "source": [
    "# validation set\n",
    "x_train,x_valid,y_train,y_valid = train_test_split(x_train_full,y_train_full,random_state=40)"
   ]
  },
  {
   "cell_type": "code",
   "execution_count": 18,
   "metadata": {},
   "outputs": [
    {
     "data": {
      "text/plain": [
       "(11610, 8)"
      ]
     },
     "execution_count": 18,
     "metadata": {},
     "output_type": "execute_result"
    }
   ],
   "source": [
    "x_train.shape"
   ]
  },
  {
   "cell_type": "code",
   "execution_count": 19,
   "metadata": {},
   "outputs": [
    {
     "data": {
      "text/plain": [
       "(3870, 8)"
      ]
     },
     "execution_count": 19,
     "metadata": {},
     "output_type": "execute_result"
    }
   ],
   "source": [
    "x_valid.shape"
   ]
  },
  {
   "cell_type": "code",
   "execution_count": 20,
   "metadata": {},
   "outputs": [],
   "source": [
    "model= tf.keras.models.Sequential()"
   ]
  },
  {
   "cell_type": "code",
   "execution_count": 22,
   "metadata": {},
   "outputs": [],
   "source": [
    "model.add(tf.keras.layers.Dense(35,activation='relu',input_shape=[8]))\n",
    "model.add(tf.keras.layers.Dense(10,activation='relu'))\n",
    "model.add(tf.keras.layers.Dense(5,activation='relu'))\n",
    "model.add(tf.keras.layers.Dense(1))"
   ]
  },
  {
   "cell_type": "code",
   "execution_count": 23,
   "metadata": {},
   "outputs": [],
   "source": [
    "model.compile(loss='mse',optimizer='sgd')"
   ]
  },
  {
   "cell_type": "code",
   "execution_count": 24,
   "metadata": {},
   "outputs": [
    {
     "name": "stdout",
     "output_type": "stream",
     "text": [
      "Model: \"sequential\"\n",
      "_________________________________________________________________\n",
      "Layer (type)                 Output Shape              Param #   \n",
      "=================================================================\n",
      "dense (Dense)                (None, 35)                315       \n",
      "_________________________________________________________________\n",
      "dense_1 (Dense)              (None, 10)                360       \n",
      "_________________________________________________________________\n",
      "dense_2 (Dense)              (None, 5)                 55        \n",
      "_________________________________________________________________\n",
      "dense_3 (Dense)              (None, 1)                 6         \n",
      "=================================================================\n",
      "Total params: 736\n",
      "Trainable params: 736\n",
      "Non-trainable params: 0\n",
      "_________________________________________________________________\n"
     ]
    }
   ],
   "source": [
    "model.summary()"
   ]
  },
  {
   "cell_type": "code",
   "execution_count": 27,
   "metadata": {},
   "outputs": [
    {
     "data": {
      "text/plain": [
       "736"
      ]
     },
     "execution_count": 27,
     "metadata": {},
     "output_type": "execute_result"
    }
   ],
   "source": [
    "8*35+35+35*10+10+10*5+5+5+1"
   ]
  },
  {
   "cell_type": "code",
   "execution_count": 28,
   "metadata": {},
   "outputs": [],
   "source": [
    "scaler = StandardScaler()"
   ]
  },
  {
   "cell_type": "code",
   "execution_count": 29,
   "metadata": {},
   "outputs": [],
   "source": [
    "x_train = scaler.fit_transform(x_train)\n",
    "x_valid = scaler.transform(x_valid)\n",
    "x_test = scaler.transform(x_test)"
   ]
  },
  {
   "cell_type": "code",
   "execution_count": 30,
   "metadata": {},
   "outputs": [
    {
     "name": "stdout",
     "output_type": "stream",
     "text": [
      "Epoch 1/25\n",
      "283/363 [======================>.......] - ETA: 0s - loss: 0.8785WARNING:tensorflow:Callbacks method `on_test_batch_end` is slow compared to the batch time (batch time: 0.0000s vs `on_test_batch_end` time: 0.0010s). Check your callbacks.\n",
      "363/363 [==============================] - 0s 1ms/step - loss: 0.8057 - val_loss: 0.5780\n",
      "Epoch 2/25\n",
      "363/363 [==============================] - 0s 640us/step - loss: 0.4963 - val_loss: 0.4913\n",
      "Epoch 3/25\n",
      "363/363 [==============================] - 0s 621us/step - loss: 0.4494 - val_loss: 0.4586\n",
      "Epoch 4/25\n",
      "363/363 [==============================] - 0s 613us/step - loss: 0.4282 - val_loss: 0.4422\n",
      "Epoch 5/25\n",
      "363/363 [==============================] - 0s 605us/step - loss: 0.4151 - val_loss: 0.4315\n",
      "Epoch 6/25\n",
      "363/363 [==============================] - 0s 596us/step - loss: 0.4081 - val_loss: 0.4265\n",
      "Epoch 7/25\n",
      "363/363 [==============================] - 0s 629us/step - loss: 0.3979 - val_loss: 0.4199\n",
      "Epoch 8/25\n",
      "363/363 [==============================] - 0s 623us/step - loss: 0.3924 - val_loss: 0.4115\n",
      "Epoch 9/25\n",
      "363/363 [==============================] - 0s 736us/step - loss: 0.3851 - val_loss: 0.4086\n",
      "Epoch 10/25\n",
      "363/363 [==============================] - 0s 685us/step - loss: 0.3788 - val_loss: 0.4025\n",
      "Epoch 11/25\n",
      "363/363 [==============================] - 0s 734us/step - loss: 0.3728 - val_loss: 0.3912\n",
      "Epoch 12/25\n",
      "363/363 [==============================] - 0s 635us/step - loss: 0.3680 - val_loss: 0.3854\n",
      "Epoch 13/25\n",
      "363/363 [==============================] - 0s 686us/step - loss: 0.3639 - val_loss: 0.3796\n",
      "Epoch 14/25\n",
      "363/363 [==============================] - 0s 646us/step - loss: 0.3576 - val_loss: 0.3810\n",
      "Epoch 15/25\n",
      "363/363 [==============================] - 0s 639us/step - loss: 0.3553 - val_loss: 0.3720\n",
      "Epoch 16/25\n",
      "363/363 [==============================] - 0s 652us/step - loss: 0.3519 - val_loss: 0.3668\n",
      "Epoch 17/25\n",
      "363/363 [==============================] - 0s 654us/step - loss: 0.3491 - val_loss: 0.3575\n",
      "Epoch 18/25\n",
      "363/363 [==============================] - 0s 686us/step - loss: 0.3446 - val_loss: 0.3622\n",
      "Epoch 19/25\n",
      "363/363 [==============================] - 0s 639us/step - loss: 0.3430 - val_loss: 0.3600\n",
      "Epoch 20/25\n",
      "363/363 [==============================] - 0s 638us/step - loss: 0.3394 - val_loss: 0.3746\n",
      "Epoch 21/25\n",
      "363/363 [==============================] - 0s 635us/step - loss: 0.3376 - val_loss: 0.3608\n",
      "Epoch 22/25\n",
      "363/363 [==============================] - 0s 721us/step - loss: 0.3378 - val_loss: 0.3614\n",
      "Epoch 23/25\n",
      "363/363 [==============================] - 0s 692us/step - loss: 0.3327 - val_loss: 0.3529\n",
      "Epoch 24/25\n",
      "363/363 [==============================] - 0s 775us/step - loss: 0.3333 - val_loss: 0.3662\n",
      "Epoch 25/25\n",
      "363/363 [==============================] - 0s 700us/step - loss: 0.3306 - val_loss: 0.3694\n"
     ]
    }
   ],
   "source": [
    "history = model.fit(x_train,y_train,epochs=25,validation_data = (x_valid,y_valid))"
   ]
  },
  {
   "cell_type": "code",
   "execution_count": 31,
   "metadata": {},
   "outputs": [
    {
     "data": {
      "text/plain": [
       "<matplotlib.axes._subplots.AxesSubplot at 0x24aa863d5c8>"
      ]
     },
     "execution_count": 31,
     "metadata": {},
     "output_type": "execute_result"
    },
    {
     "data": {
      "image/png": "[encoded data removed]",
      "text/plain": [
       "<Figure size 432x288 with 1 Axes>"
      ]
     },
     "metadata": {
      "needs_background": "light"
     },
     "output_type": "display_data"
    }
   ],
   "source": [
    "# plotting \n",
    "pd.DataFrame(history.history).plot()"
   ]
  },
  {
   "cell_type": "code",
   "execution_count": 32,
   "metadata": {},
   "outputs": [],
   "source": [
    "# let's see using callbacks"
   ]
  },
  {
   "cell_type": "code",
   "execution_count": 34,
   "metadata": {},
   "outputs": [],
   "source": [
    "tensorboard_cb = tf.keras.callbacks.TensorBoard(log_dir=\"logs\")\n",
    "checkpoint_cb = tf.keras.callbacks.ModelCheckpoint(\"my_keras_model_regression.h5\",save_best_only=True)\n",
    "early_stopping_cb = tf.keras.callbacks.EarlyStopping(patience = 5,restore_best_weights=True)\n",
    "callbacks = [tensorboard_cb,checkpoint_cb,early_stopping_cb]"
   ]
  },
  {
   "cell_type": "code",
   "execution_count": 35,
   "metadata": {},
   "outputs": [],
   "source": [
    "model2= tf.keras.models.Sequential()\n",
    "model2.add(tf.keras.layers.Dense(35,activation='relu',input_shape=[8]))\n",
    "model2.add(tf.keras.layers.Dense(10,activation='relu'))\n",
    "model2.add(tf.keras.layers.Dense(5,activation='relu'))\n",
    "model2.add(tf.keras.layers.Dense(1))"
   ]
  },
  {
   "cell_type": "code",
   "execution_count": 36,
   "metadata": {},
   "outputs": [
    {
     "name": "stdout",
     "output_type": "stream",
     "text": [
      "Epoch 1/100\n",
      "  1/363 [..............................] - ETA: 0s - loss: 7.1820WARNING:tensorflow:From E:\\anaconda3\\lib\\site-packages\\tensorflow\\python\\ops\\summary_ops_v2.py:1277: stop (from tensorflow.python.eager.profiler) is deprecated and will be removed after 2020-07-01.\n",
      "Instructions for updating:\n",
      "use `tf.profiler.experimental.stop` instead.\n",
      "  2/363 [..............................] - ETA: 1:14 - loss: 6.1805WARNING:tensorflow:Callbacks method `on_train_batch_end` is slow compared to the batch time (batch time: 0.0450s vs `on_train_batch_end` time: 0.3688s). Check your callbacks.\n",
      "363/363 [==============================] - 1s 3ms/step - loss: 1.7593 - val_loss: 0.6705\n",
      "Epoch 2/100\n",
      "363/363 [==============================] - 0s 1ms/step - loss: 0.5385 - val_loss: 0.5036\n",
      "Epoch 3/100\n",
      "363/363 [==============================] - 0s 931us/step - loss: 0.4427 - val_loss: 0.4443\n",
      "Epoch 4/100\n",
      "363/363 [==============================] - 0s 907us/step - loss: 0.4046 - val_loss: 0.4173\n",
      "Epoch 5/100\n",
      "363/363 [==============================] - 0s 904us/step - loss: 0.3863 - val_loss: 0.3944\n",
      "Epoch 6/100\n",
      "363/363 [==============================] - 0s 918us/step - loss: 0.3704 - val_loss: 0.3831\n",
      "Epoch 7/100\n",
      "363/363 [==============================] - 0s 969us/step - loss: 0.3580 - val_loss: 0.3706\n",
      "Epoch 8/100\n",
      "363/363 [==============================] - 0s 1ms/step - loss: 0.3536 - val_loss: 0.3606\n",
      "Epoch 9/100\n",
      "363/363 [==============================] - 0s 1ms/step - loss: 0.3448 - val_loss: 0.3567\n",
      "Epoch 10/100\n",
      "363/363 [==============================] - 0s 1ms/step - loss: 0.3454 - val_loss: 0.3543\n",
      "Epoch 11/100\n",
      "363/363 [==============================] - 0s 1ms/step - loss: 0.3302 - val_loss: 0.3396\n",
      "Epoch 12/100\n",
      "363/363 [==============================] - 0s 1ms/step - loss: 0.3282 - val_loss: 0.3371\n",
      "Epoch 13/100\n",
      "363/363 [==============================] - 0s 874us/step - loss: 0.3223 - val_loss: 0.3504\n",
      "Epoch 14/100\n",
      "363/363 [==============================] - 0s 959us/step - loss: 0.3168 - val_loss: 0.3317\n",
      "Epoch 15/100\n",
      "363/363 [==============================] - 0s 868us/step - loss: 0.3141 - val_loss: 0.3351\n",
      "Epoch 16/100\n",
      "363/363 [==============================] - 0s 1ms/step - loss: 0.3136 - val_loss: 0.3248\n",
      "Epoch 17/100\n",
      "363/363 [==============================] - 0s 1ms/step - loss: 0.3084 - val_loss: 0.3254\n",
      "Epoch 18/100\n",
      "363/363 [==============================] - 0s 1ms/step - loss: 0.3087 - val_loss: 0.3208\n",
      "Epoch 19/100\n",
      "363/363 [==============================] - 0s 774us/step - loss: 0.3104 - val_loss: 0.3293\n",
      "Epoch 20/100\n",
      "363/363 [==============================] - 0s 809us/step - loss: 0.3011 - val_loss: 0.3219\n",
      "Epoch 21/100\n",
      "363/363 [==============================] - 0s 839us/step - loss: 0.2999 - val_loss: 0.3156\n",
      "Epoch 22/100\n",
      "363/363 [==============================] - 0s 833us/step - loss: 0.3001 - val_loss: 0.3145\n",
      "Epoch 23/100\n",
      "363/363 [==============================] - 0s 862us/step - loss: 0.2995 - val_loss: 0.3120\n",
      "Epoch 24/100\n",
      "363/363 [==============================] - 0s 890us/step - loss: 0.2948 - val_loss: 0.3112\n",
      "Epoch 25/100\n",
      "363/363 [==============================] - 0s 730us/step - loss: 0.2950 - val_loss: 0.3136\n",
      "Epoch 26/100\n",
      "363/363 [==============================] - 0s 812us/step - loss: 0.2941 - val_loss: 0.3101\n",
      "Epoch 27/100\n",
      "363/363 [==============================] - 0s 790us/step - loss: 0.2918 - val_loss: 0.3107\n",
      "Epoch 28/100\n",
      "363/363 [==============================] - 0s 865us/step - loss: 0.2895 - val_loss: 0.3098\n",
      "Epoch 29/100\n",
      "363/363 [==============================] - 0s 812us/step - loss: 0.2918 - val_loss: 0.3094\n",
      "Epoch 30/100\n",
      "363/363 [==============================] - 0s 934us/step - loss: 0.2878 - val_loss: 0.3051\n",
      "Epoch 31/100\n",
      "363/363 [==============================] - 0s 737us/step - loss: 0.2859 - val_loss: 0.3060\n",
      "Epoch 32/100\n",
      "363/363 [==============================] - 0s 757us/step - loss: 0.2859 - val_loss: 0.3052\n",
      "Epoch 33/100\n",
      "363/363 [==============================] - 0s 1ms/step - loss: 0.2897 - val_loss: 0.3050\n",
      "Epoch 34/100\n",
      "363/363 [==============================] - 0s 751us/step - loss: 0.2830 - val_loss: 0.3162\n",
      "Epoch 35/100\n",
      "363/363 [==============================] - 0s 782us/step - loss: 0.2856 - val_loss: 0.3030\n",
      "Epoch 36/100\n",
      "363/363 [==============================] - 0s 855us/step - loss: 0.2826 - val_loss: 0.3161\n",
      "Epoch 37/100\n",
      "363/363 [==============================] - 0s 825us/step - loss: 0.2862 - val_loss: 0.3062\n",
      "Epoch 38/100\n",
      "363/363 [==============================] - 0s 816us/step - loss: 0.2794 - val_loss: 0.3021\n",
      "Epoch 39/100\n",
      "363/363 [==============================] - 0s 823us/step - loss: 0.2804 - val_loss: 0.2987\n",
      "Epoch 40/100\n",
      "363/363 [==============================] - 0s 730us/step - loss: 0.2817 - val_loss: 0.3012\n",
      "Epoch 41/100\n",
      "363/363 [==============================] - 0s 755us/step - loss: 0.2815 - val_loss: 0.3036\n",
      "Epoch 42/100\n",
      "363/363 [==============================] - 0s 724us/step - loss: 0.2805 - val_loss: 0.2995\n",
      "Epoch 43/100\n",
      "363/363 [==============================] - 0s 736us/step - loss: 0.2772 - val_loss: 0.2994\n",
      "Epoch 44/100\n",
      "363/363 [==============================] - 0s 809us/step - loss: 0.2775 - val_loss: 0.3041\n"
     ]
    }
   ],
   "source": [
    "optimizer = tf.keras\n",
    "model2.compile(loss='mse',optimizer='adam')\n",
    "history2 = model2.fit(x_train,y_train,epochs=100,validation_data = (x_valid,y_valid),callbacks = callbacks)"
   ]
  },
  {
   "cell_type": "code",
   "execution_count": null,
   "metadata": {},
   "outputs": [],
   "source": []
  }
 ],
 "metadata": {
  "kernelspec": {
   "display_name": "Python 3",
   "language": "python",
   "name": "python3"
  },
  "language_info": {
   "codemirror_mode": {
    "name": "ipython",
    "version": 3
   },
   "file_extension": ".py",
   "mimetype": "text/x-python",
   "name": "python",
   "nbconvert_exporter": "python",
   "pygments_lexer": "ipython3",
   "version": "3.7.6"
  }
 },
 "nbformat": 4,
 "nbformat_minor": 4
}
